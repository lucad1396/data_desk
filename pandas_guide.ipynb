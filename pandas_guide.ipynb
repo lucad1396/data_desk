{
 "cells": [
  {
   "cell_type": "markdown",
   "id": "0a3d5133",
   "metadata": {},
   "source": [
    "# 🐼 Pandas Guide: Essential Data Handling and Manipulation"
   ]
  },
  {
   "cell_type": "markdown",
   "id": "8e822f68",
   "metadata": {},
   "source": [
    "## 📚 Notebook Outline\n",
    "\n",
    "1. Introduction\n",
    "2. Data Structures Overview\n",
    "3. Loading Data\n",
    "4. Basic Data Inspection & Selection\n",
    "5. Data Exploration\n",
    "6. Statistical Summaries and Correlation\n",
    "7. Grouping, Aggregation & Sorting\n",
    "8. Data Cleaning and Transformation\n",
    "9. Data Preprocessing and Feature Engineering\n",
    "10. Combining Datasets\n",
    "11. Bonus: Tips for Handling Large Datasets"
   ]
  },
  {
   "cell_type": "markdown",
   "id": "475cf84e",
   "metadata": {},
   "source": [
    "## 1. Introduction  \n",
    "\n",
    "This notebook is a practical, example-driven guide to using `pandas`, one of the most important libraries in the Python data science ecosystem. It focuses on the essential operations you'll need for exploring, cleaning, transforming, and analyzing data in real-world projects.\n",
    "\n",
    "### 📌 Purpose of the Guide\n",
    "\n",
    "The goal is to:\n",
    "- Build a strong foundation in pandas for data manipulation tasks.\n",
    "- Provide clear, reusable examples for future reference.\n",
    "- Help transition from academic data handling (e.g., NumPy, raw CSVs) to industry-standard practices.\n",
    "\n",
    "### ⚙️ Why Pandas Is Crucial for Data Science Workflows\n",
    "\n",
    "Pandas is a core tool for:\n",
    "- Efficiently reading, cleaning, and transforming data.\n",
    "- Performing exploratory data analysis (EDA).\n",
    "- Preparing data for machine learning pipelines.\n",
    "- Managing data pipelines in reproducible, readable ways.\n",
    "\n",
    "This guide is part of a larger portfolio aimed at showcasing end-to-end data science workflows using industry-standard tools."
   ]
  },
  {
   "cell_type": "markdown",
   "id": "6153c486",
   "metadata": {},
   "source": [
    "## Imports and Setup\n",
    "\n",
    "We’ll use `pandas` for data manipulation and `numpy` for some supporting operations."
   ]
  },
  {
   "cell_type": "code",
   "execution_count": 36,
   "id": "9852a246",
   "metadata": {},
   "outputs": [],
   "source": [
    "import pandas as pd\n",
    "import numpy as np"
   ]
  },
  {
   "cell_type": "markdown",
   "id": "a5e0f16b",
   "metadata": {},
   "source": [
    "## 2. Data Structures Overview\n",
    "\n",
    "At the core of `pandas` are two main data structures:\n",
    "\n",
    "- **Series**: A one-dimensional labeled array, similar to a column in a spreadsheet or a 1D NumPy array with labels.\n",
    "- **DataFrame**: A two-dimensional labeled data structure with columns of potentially different types - like a table or spreadsheet in Python.\n",
    "\n",
    "These structures are optimized for performance and integrate seamlessly with NumPy, making them essential tools in the Python data science ecosystem.\n",
    "\n",
    "---\n",
    "\n",
    "### 🧾 What is a DataFrame?\n",
    "\n",
    "A **pandas DataFrame** is a two-dimensional, labeled data structure that behaves like a table, with rows and columns. Each column can hold a different data type (e.g., int, float, string), and each entry is identified by a row index and column label."
   ]
  },
  {
   "cell_type": "code",
   "execution_count": 39,
   "id": "594babc2",
   "metadata": {},
   "outputs": [
    {
     "data": {
      "text/html": [
       "<div>\n",
       "<style scoped>\n",
       "    .dataframe tbody tr th:only-of-type {\n",
       "        vertical-align: middle;\n",
       "    }\n",
       "\n",
       "    .dataframe tbody tr th {\n",
       "        vertical-align: top;\n",
       "    }\n",
       "\n",
       "    .dataframe thead th {\n",
       "        text-align: right;\n",
       "    }\n",
       "</style>\n",
       "<table border=\"1\" class=\"dataframe\">\n",
       "  <thead>\n",
       "    <tr style=\"text-align: right;\">\n",
       "      <th></th>\n",
       "      <th>Apple</th>\n",
       "      <th>Banana</th>\n",
       "    </tr>\n",
       "  </thead>\n",
       "  <tbody>\n",
       "    <tr>\n",
       "      <th>Monday</th>\n",
       "      <td>50</td>\n",
       "      <td>131</td>\n",
       "    </tr>\n",
       "    <tr>\n",
       "      <th>Tuesday</th>\n",
       "      <td>21</td>\n",
       "      <td>2</td>\n",
       "    </tr>\n",
       "  </tbody>\n",
       "</table>\n",
       "</div>"
      ],
      "text/plain": [
       "         Apple  Banana\n",
       "Monday      50     131\n",
       "Tuesday     21       2"
      ]
     },
     "execution_count": 39,
     "metadata": {},
     "output_type": "execute_result"
    }
   ],
   "source": [
    "pd.DataFrame({'Apple': [50, 21], 'Banana': [131, 2]}, index=['Monday', 'Tuesday'])"
   ]
  },
  {
   "cell_type": "markdown",
   "id": "d04d6174",
   "metadata": {},
   "source": [
    "### 🔍 What is a Series?\n",
    "\n",
    "A **pandas Series** is a one-dimensional labeled array that can hold any data type. It's like a single column of a DataFrame, with each value paired to an index label.\n",
    "\n",
    "Unlike a DataFrame, a Series does not have multiple column labels, it has just one overall `name`."
   ]
  },
  {
   "cell_type": "code",
   "execution_count": 37,
   "id": "6828904d",
   "metadata": {
    "scrolled": false
   },
   "outputs": [
    {
     "data": {
      "text/plain": [
       "Day 1    12\n",
       "Day 2     7\n",
       "Day 3    35\n",
       "Name: # of customers, dtype: int64"
      ]
     },
     "execution_count": 37,
     "metadata": {},
     "output_type": "execute_result"
    }
   ],
   "source": [
    "pd.Series([12, 7, 35], index=['Day 1', 'Day 2', 'Day 3'], name='# of customers')"
   ]
  },
  {
   "cell_type": "markdown",
   "id": "ad75c661",
   "metadata": {},
   "source": [
    "### ✅ Summary\n",
    "\n",
    "- Use **Series** for 1D labeled data (e.g., time series, single columns).\n",
    "- Use **DataFrame** for 2D structured data (e.g., datasets, tables).\n",
    "- Both structures support rich operations like filtering, aggregation, and transformation."
   ]
  },
  {
   "cell_type": "markdown",
   "id": "8a37083a",
   "metadata": {},
   "source": [
    "## 3. Loading Data\n",
    "\n",
    "A common first step in data analysis is loading your dataset into a pandas DataFrame. The most common format is CSV (comma-separated values), which pandas can read easily with `pd.read_csv()`.\n",
    "\n",
    "In this example, we will download a dataset directly from Kaggle (https://www.kaggle.com/datasets/zynicide/wine-reviews) and load it into a DataFrame.\n",
    "\n",
    "---\n",
    "\n",
    "Notice that the first column in the dataset actually contains the row indices, not regular data. Using the parameter index_col=0 tells pandas to use the first column as the DataFrame index, fixing the indexing for cleaner data handling."
   ]
  },
  {
   "cell_type": "code",
   "execution_count": 43,
   "id": "a8d7a9df",
   "metadata": {
    "scrolled": false
   },
   "outputs": [
    {
     "name": "stdout",
     "output_type": "stream",
     "text": [
      "Warning: Looks like you're using an outdated `kagglehub` version, please consider updating (latest version: 0.3.12)\n",
      "Path to dataset files: C:\\Users\\lucad\\.cache\\kagglehub\\datasets\\zynicide\\wine-reviews\\versions\\4\n",
      "DataFrame loaded without index_col:\n"
     ]
    },
    {
     "data": {
      "text/html": [
       "<div>\n",
       "<style scoped>\n",
       "    .dataframe tbody tr th:only-of-type {\n",
       "        vertical-align: middle;\n",
       "    }\n",
       "\n",
       "    .dataframe tbody tr th {\n",
       "        vertical-align: top;\n",
       "    }\n",
       "\n",
       "    .dataframe thead th {\n",
       "        text-align: right;\n",
       "    }\n",
       "</style>\n",
       "<table border=\"1\" class=\"dataframe\">\n",
       "  <thead>\n",
       "    <tr style=\"text-align: right;\">\n",
       "      <th></th>\n",
       "      <th>Unnamed: 0</th>\n",
       "      <th>country</th>\n",
       "      <th>description</th>\n",
       "      <th>designation</th>\n",
       "      <th>points</th>\n",
       "      <th>price</th>\n",
       "      <th>province</th>\n",
       "      <th>region_1</th>\n",
       "      <th>region_2</th>\n",
       "      <th>taster_name</th>\n",
       "      <th>taster_twitter_handle</th>\n",
       "      <th>title</th>\n",
       "      <th>variety</th>\n",
       "      <th>winery</th>\n",
       "    </tr>\n",
       "  </thead>\n",
       "  <tbody>\n",
       "    <tr>\n",
       "      <th>0</th>\n",
       "      <td>0</td>\n",
       "      <td>Italy</td>\n",
       "      <td>Aromas include tropical fruit, broom, brimston...</td>\n",
       "      <td>Vulkà Bianco</td>\n",
       "      <td>87</td>\n",
       "      <td>NaN</td>\n",
       "      <td>Sicily &amp; Sardinia</td>\n",
       "      <td>Etna</td>\n",
       "      <td>NaN</td>\n",
       "      <td>Kerin O’Keefe</td>\n",
       "      <td>@kerinokeefe</td>\n",
       "      <td>Nicosia 2013 Vulkà Bianco  (Etna)</td>\n",
       "      <td>White Blend</td>\n",
       "      <td>Nicosia</td>\n",
       "    </tr>\n",
       "    <tr>\n",
       "      <th>1</th>\n",
       "      <td>1</td>\n",
       "      <td>Portugal</td>\n",
       "      <td>This is ripe and fruity, a wine that is smooth...</td>\n",
       "      <td>Avidagos</td>\n",
       "      <td>87</td>\n",
       "      <td>15.0</td>\n",
       "      <td>Douro</td>\n",
       "      <td>NaN</td>\n",
       "      <td>NaN</td>\n",
       "      <td>Roger Voss</td>\n",
       "      <td>@vossroger</td>\n",
       "      <td>Quinta dos Avidagos 2011 Avidagos Red (Douro)</td>\n",
       "      <td>Portuguese Red</td>\n",
       "      <td>Quinta dos Avidagos</td>\n",
       "    </tr>\n",
       "    <tr>\n",
       "      <th>2</th>\n",
       "      <td>2</td>\n",
       "      <td>US</td>\n",
       "      <td>Tart and snappy, the flavors of lime flesh and...</td>\n",
       "      <td>NaN</td>\n",
       "      <td>87</td>\n",
       "      <td>14.0</td>\n",
       "      <td>Oregon</td>\n",
       "      <td>Willamette Valley</td>\n",
       "      <td>Willamette Valley</td>\n",
       "      <td>Paul Gregutt</td>\n",
       "      <td>@paulgwine</td>\n",
       "      <td>Rainstorm 2013 Pinot Gris (Willamette Valley)</td>\n",
       "      <td>Pinot Gris</td>\n",
       "      <td>Rainstorm</td>\n",
       "    </tr>\n",
       "    <tr>\n",
       "      <th>3</th>\n",
       "      <td>3</td>\n",
       "      <td>US</td>\n",
       "      <td>Pineapple rind, lemon pith and orange blossom ...</td>\n",
       "      <td>Reserve Late Harvest</td>\n",
       "      <td>87</td>\n",
       "      <td>13.0</td>\n",
       "      <td>Michigan</td>\n",
       "      <td>Lake Michigan Shore</td>\n",
       "      <td>NaN</td>\n",
       "      <td>Alexander Peartree</td>\n",
       "      <td>NaN</td>\n",
       "      <td>St. Julian 2013 Reserve Late Harvest Riesling ...</td>\n",
       "      <td>Riesling</td>\n",
       "      <td>St. Julian</td>\n",
       "    </tr>\n",
       "    <tr>\n",
       "      <th>4</th>\n",
       "      <td>4</td>\n",
       "      <td>US</td>\n",
       "      <td>Much like the regular bottling from 2012, this...</td>\n",
       "      <td>Vintner's Reserve Wild Child Block</td>\n",
       "      <td>87</td>\n",
       "      <td>65.0</td>\n",
       "      <td>Oregon</td>\n",
       "      <td>Willamette Valley</td>\n",
       "      <td>Willamette Valley</td>\n",
       "      <td>Paul Gregutt</td>\n",
       "      <td>@paulgwine</td>\n",
       "      <td>Sweet Cheeks 2012 Vintner's Reserve Wild Child...</td>\n",
       "      <td>Pinot Noir</td>\n",
       "      <td>Sweet Cheeks</td>\n",
       "    </tr>\n",
       "  </tbody>\n",
       "</table>\n",
       "</div>"
      ],
      "text/plain": [
       "   Unnamed: 0   country                                        description  \\\n",
       "0           0     Italy  Aromas include tropical fruit, broom, brimston...   \n",
       "1           1  Portugal  This is ripe and fruity, a wine that is smooth...   \n",
       "2           2        US  Tart and snappy, the flavors of lime flesh and...   \n",
       "3           3        US  Pineapple rind, lemon pith and orange blossom ...   \n",
       "4           4        US  Much like the regular bottling from 2012, this...   \n",
       "\n",
       "                          designation  points  price           province  \\\n",
       "0                        Vulkà Bianco      87    NaN  Sicily & Sardinia   \n",
       "1                            Avidagos      87   15.0              Douro   \n",
       "2                                 NaN      87   14.0             Oregon   \n",
       "3                Reserve Late Harvest      87   13.0           Michigan   \n",
       "4  Vintner's Reserve Wild Child Block      87   65.0             Oregon   \n",
       "\n",
       "              region_1           region_2         taster_name  \\\n",
       "0                 Etna                NaN       Kerin O’Keefe   \n",
       "1                  NaN                NaN          Roger Voss   \n",
       "2    Willamette Valley  Willamette Valley        Paul Gregutt   \n",
       "3  Lake Michigan Shore                NaN  Alexander Peartree   \n",
       "4    Willamette Valley  Willamette Valley        Paul Gregutt   \n",
       "\n",
       "  taster_twitter_handle                                              title  \\\n",
       "0          @kerinokeefe                  Nicosia 2013 Vulkà Bianco  (Etna)   \n",
       "1            @vossroger      Quinta dos Avidagos 2011 Avidagos Red (Douro)   \n",
       "2           @paulgwine       Rainstorm 2013 Pinot Gris (Willamette Valley)   \n",
       "3                   NaN  St. Julian 2013 Reserve Late Harvest Riesling ...   \n",
       "4           @paulgwine   Sweet Cheeks 2012 Vintner's Reserve Wild Child...   \n",
       "\n",
       "          variety               winery  \n",
       "0     White Blend              Nicosia  \n",
       "1  Portuguese Red  Quinta dos Avidagos  \n",
       "2      Pinot Gris            Rainstorm  \n",
       "3        Riesling           St. Julian  \n",
       "4      Pinot Noir         Sweet Cheeks  "
      ]
     },
     "metadata": {},
     "output_type": "display_data"
    },
    {
     "name": "stdout",
     "output_type": "stream",
     "text": [
      "DataFrame loaded with index_col=0:\n"
     ]
    },
    {
     "data": {
      "text/html": [
       "<div>\n",
       "<style scoped>\n",
       "    .dataframe tbody tr th:only-of-type {\n",
       "        vertical-align: middle;\n",
       "    }\n",
       "\n",
       "    .dataframe tbody tr th {\n",
       "        vertical-align: top;\n",
       "    }\n",
       "\n",
       "    .dataframe thead th {\n",
       "        text-align: right;\n",
       "    }\n",
       "</style>\n",
       "<table border=\"1\" class=\"dataframe\">\n",
       "  <thead>\n",
       "    <tr style=\"text-align: right;\">\n",
       "      <th></th>\n",
       "      <th>country</th>\n",
       "      <th>description</th>\n",
       "      <th>designation</th>\n",
       "      <th>points</th>\n",
       "      <th>price</th>\n",
       "      <th>province</th>\n",
       "      <th>region_1</th>\n",
       "      <th>region_2</th>\n",
       "      <th>taster_name</th>\n",
       "      <th>taster_twitter_handle</th>\n",
       "      <th>title</th>\n",
       "      <th>variety</th>\n",
       "      <th>winery</th>\n",
       "    </tr>\n",
       "  </thead>\n",
       "  <tbody>\n",
       "    <tr>\n",
       "      <th>0</th>\n",
       "      <td>Italy</td>\n",
       "      <td>Aromas include tropical fruit, broom, brimston...</td>\n",
       "      <td>Vulkà Bianco</td>\n",
       "      <td>87</td>\n",
       "      <td>NaN</td>\n",
       "      <td>Sicily &amp; Sardinia</td>\n",
       "      <td>Etna</td>\n",
       "      <td>NaN</td>\n",
       "      <td>Kerin O’Keefe</td>\n",
       "      <td>@kerinokeefe</td>\n",
       "      <td>Nicosia 2013 Vulkà Bianco  (Etna)</td>\n",
       "      <td>White Blend</td>\n",
       "      <td>Nicosia</td>\n",
       "    </tr>\n",
       "    <tr>\n",
       "      <th>1</th>\n",
       "      <td>Portugal</td>\n",
       "      <td>This is ripe and fruity, a wine that is smooth...</td>\n",
       "      <td>Avidagos</td>\n",
       "      <td>87</td>\n",
       "      <td>15.0</td>\n",
       "      <td>Douro</td>\n",
       "      <td>NaN</td>\n",
       "      <td>NaN</td>\n",
       "      <td>Roger Voss</td>\n",
       "      <td>@vossroger</td>\n",
       "      <td>Quinta dos Avidagos 2011 Avidagos Red (Douro)</td>\n",
       "      <td>Portuguese Red</td>\n",
       "      <td>Quinta dos Avidagos</td>\n",
       "    </tr>\n",
       "    <tr>\n",
       "      <th>2</th>\n",
       "      <td>US</td>\n",
       "      <td>Tart and snappy, the flavors of lime flesh and...</td>\n",
       "      <td>NaN</td>\n",
       "      <td>87</td>\n",
       "      <td>14.0</td>\n",
       "      <td>Oregon</td>\n",
       "      <td>Willamette Valley</td>\n",
       "      <td>Willamette Valley</td>\n",
       "      <td>Paul Gregutt</td>\n",
       "      <td>@paulgwine</td>\n",
       "      <td>Rainstorm 2013 Pinot Gris (Willamette Valley)</td>\n",
       "      <td>Pinot Gris</td>\n",
       "      <td>Rainstorm</td>\n",
       "    </tr>\n",
       "    <tr>\n",
       "      <th>3</th>\n",
       "      <td>US</td>\n",
       "      <td>Pineapple rind, lemon pith and orange blossom ...</td>\n",
       "      <td>Reserve Late Harvest</td>\n",
       "      <td>87</td>\n",
       "      <td>13.0</td>\n",
       "      <td>Michigan</td>\n",
       "      <td>Lake Michigan Shore</td>\n",
       "      <td>NaN</td>\n",
       "      <td>Alexander Peartree</td>\n",
       "      <td>NaN</td>\n",
       "      <td>St. Julian 2013 Reserve Late Harvest Riesling ...</td>\n",
       "      <td>Riesling</td>\n",
       "      <td>St. Julian</td>\n",
       "    </tr>\n",
       "    <tr>\n",
       "      <th>4</th>\n",
       "      <td>US</td>\n",
       "      <td>Much like the regular bottling from 2012, this...</td>\n",
       "      <td>Vintner's Reserve Wild Child Block</td>\n",
       "      <td>87</td>\n",
       "      <td>65.0</td>\n",
       "      <td>Oregon</td>\n",
       "      <td>Willamette Valley</td>\n",
       "      <td>Willamette Valley</td>\n",
       "      <td>Paul Gregutt</td>\n",
       "      <td>@paulgwine</td>\n",
       "      <td>Sweet Cheeks 2012 Vintner's Reserve Wild Child...</td>\n",
       "      <td>Pinot Noir</td>\n",
       "      <td>Sweet Cheeks</td>\n",
       "    </tr>\n",
       "  </tbody>\n",
       "</table>\n",
       "</div>"
      ],
      "text/plain": [
       "    country                                        description  \\\n",
       "0     Italy  Aromas include tropical fruit, broom, brimston...   \n",
       "1  Portugal  This is ripe and fruity, a wine that is smooth...   \n",
       "2        US  Tart and snappy, the flavors of lime flesh and...   \n",
       "3        US  Pineapple rind, lemon pith and orange blossom ...   \n",
       "4        US  Much like the regular bottling from 2012, this...   \n",
       "\n",
       "                          designation  points  price           province  \\\n",
       "0                        Vulkà Bianco      87    NaN  Sicily & Sardinia   \n",
       "1                            Avidagos      87   15.0              Douro   \n",
       "2                                 NaN      87   14.0             Oregon   \n",
       "3                Reserve Late Harvest      87   13.0           Michigan   \n",
       "4  Vintner's Reserve Wild Child Block      87   65.0             Oregon   \n",
       "\n",
       "              region_1           region_2         taster_name  \\\n",
       "0                 Etna                NaN       Kerin O’Keefe   \n",
       "1                  NaN                NaN          Roger Voss   \n",
       "2    Willamette Valley  Willamette Valley        Paul Gregutt   \n",
       "3  Lake Michigan Shore                NaN  Alexander Peartree   \n",
       "4    Willamette Valley  Willamette Valley        Paul Gregutt   \n",
       "\n",
       "  taster_twitter_handle                                              title  \\\n",
       "0          @kerinokeefe                  Nicosia 2013 Vulkà Bianco  (Etna)   \n",
       "1            @vossroger      Quinta dos Avidagos 2011 Avidagos Red (Douro)   \n",
       "2           @paulgwine       Rainstorm 2013 Pinot Gris (Willamette Valley)   \n",
       "3                   NaN  St. Julian 2013 Reserve Late Harvest Riesling ...   \n",
       "4           @paulgwine   Sweet Cheeks 2012 Vintner's Reserve Wild Child...   \n",
       "\n",
       "          variety               winery  \n",
       "0     White Blend              Nicosia  \n",
       "1  Portuguese Red  Quinta dos Avidagos  \n",
       "2      Pinot Gris            Rainstorm  \n",
       "3        Riesling           St. Julian  \n",
       "4      Pinot Noir         Sweet Cheeks  "
      ]
     },
     "metadata": {},
     "output_type": "display_data"
    }
   ],
   "source": [
    "# Import necessary libraries\n",
    "import kagglehub  # Library to download datasets directly from Kaggle\n",
    "\n",
    "# Download the dataset\n",
    "path = kagglehub.dataset_download(\"zynicide/wine-reviews\")\n",
    "\n",
    "print(\"Path to dataset files:\", path)\n",
    "\n",
    "# Load the CSV file into a DataFrame without fixing the index (default)\n",
    "wine_data = pd.read_csv(path + \"\\\\winemag-data-130k-v2.csv\")\n",
    "print(\"DataFrame loaded without index_col:\")\n",
    "display(wine_data.head())\n",
    "\n",
    "# Reload the CSV, this time fixing the index column\n",
    "wine_data = pd.read_csv(path + \"\\\\winemag-data-130k-v2.csv\", index_col=0)\n",
    "print(\"DataFrame loaded with index_col=0:\")\n",
    "display(wine_data.head())"
   ]
  },
  {
   "cell_type": "markdown",
   "id": "1fef8447",
   "metadata": {},
   "source": [
    "Sometimes you might want to store your downloaded datasets in a custom folder for better project organization. The following snippet shows how to move the downloaded files to a directory of your choice.\n",
    "\n",
    "Be sure to update the target_folder variable with your preferred folder path."
   ]
  },
  {
   "cell_type": "code",
   "execution_count": null,
   "id": "ad3d5a0d",
   "metadata": {},
   "outputs": [],
   "source": [
    "import kagglehub\n",
    "import shutil\n",
    "import os\n",
    "\n",
    "# Uncomment and run this line if you haven't downloaded the dataset yet\n",
    "# path = kagglehub.dataset_download(\"zynicide/wine-reviews\")\n",
    "\n",
    "# Specify your desired target folder here\n",
    "target_folder = \"/your/custom/path/wine-reviews\"\n",
    "\n",
    "# Create the target folder if it doesn't exist\n",
    "os.makedirs(target_folder, exist_ok=True)\n",
    "\n",
    "# Move the downloaded dataset files to the target folder\n",
    "shutil.move(path, target_folder)\n",
    "\n",
    "print(f\"Dataset moved to {target_folder}\")"
   ]
  },
  {
   "cell_type": "markdown",
   "id": "1392cc39",
   "metadata": {},
   "source": [
    "### 📋 Summary\n",
    "\n",
    "- We loaded a dataset from a CSV file using `pd.read_csv()`.  \n",
    "- You learned how to fix the DataFrame index with the `index_col` parameter.  \n",
    "- We showed how to move dataset files to a custom folder to keep your workspace organized.\n",
    "\n",
    "---\n",
    "\n",
    "### 🗂️ Other Data File Formats Supported by pandas\n",
    "\n",
    "Besides CSV, pandas can load data from many other file formats, including:\n",
    "\n",
    "- **Excel files** (`.xls`, `.xlsx`) with [`pd.read_excel()`](https://pandas.pydata.org/pandas-docs/stable/reference/api/pandas.read_excel.html)  \n",
    "- **JSON files** with [`pd.read_json()`](https://pandas.pydata.org/pandas-docs/stable/reference/api/pandas.read_json.html)  \n",
    "- **SQL databases** via [`pd.read_sql()`](https://pandas.pydata.org/pandas-docs/stable/reference/api/pandas.read_sql.html)  \n",
    "- **Parquet files** (`.parquet`) for efficient columnar storage with [`pd.read_parquet()`](https://pandas.pydata.org/pandas-docs/stable/reference/api/pandas.read_parquet.html)  \n",
    "- **HTML tables** using [`pd.read_html()`](https://pandas.pydata.org/pandas-docs/stable/reference/api/pandas.read_html.html)  \n",
    "\n",
    "This flexibility makes pandas a powerful tool for various real-world data workflows."
   ]
  },
  {
   "cell_type": "markdown",
   "id": "934b754d",
   "metadata": {},
   "source": [
    "## 4. Basic Data Inspection & Selection\n",
    "\n",
    "Before diving deeper into analysis, it's important to understand the structure and shape of your dataset, and how to select the data you want to work with.\n",
    "\n",
    "### Checking Dataset Shape\n",
    "\n",
    "You can quickly check the number of rows and columns using the `.shape` attribute:"
   ]
  },
  {
   "cell_type": "code",
   "execution_count": 44,
   "id": "ba4bad8a",
   "metadata": {},
   "outputs": [
    {
     "name": "stdout",
     "output_type": "stream",
     "text": [
      "Dataset shape: (129971, 13)\n"
     ]
    }
   ],
   "source": [
    "print(f\"Dataset shape: {wine_data.shape}\")"
   ]
  },
  {
   "cell_type": "markdown",
   "id": "eea8ad2f",
   "metadata": {},
   "source": [
    "### Accessing Columns: Two Common Ways\n",
    "\n",
    "You can select a column either by:\n",
    "\n",
    "- `wine_data['province']`  \n",
    "  - More general and reliable  \n",
    "  - Works with any column name, including those with spaces or special characters  \n",
    "  - Preferred if column names might conflict with DataFrame attributes  \n",
    "  - Always returns a Series\n",
    "\n",
    "- `wine_data.province`  \n",
    "  - More concise and convenient for simple column names  \n",
    "  - Only works if the column name is a valid Python identifier (no spaces, special chars, or starting with numbers)  \n",
    "  - Can conflict with DataFrame methods or attributes  \n",
    "  - Not recommended for production code\n"
   ]
  },
  {
   "cell_type": "code",
   "execution_count": 50,
   "id": "e7bfd2a7",
   "metadata": {},
   "outputs": [
    {
     "data": {
      "text/plain": [
       "0         Sicily & Sardinia\n",
       "1                     Douro\n",
       "2                    Oregon\n",
       "3                  Michigan\n",
       "4                    Oregon\n",
       "                ...        \n",
       "129966                Mosel\n",
       "129967               Oregon\n",
       "129968               Alsace\n",
       "129969               Alsace\n",
       "129970               Alsace\n",
       "Name: province, Length: 129971, dtype: object"
      ]
     },
     "execution_count": 50,
     "metadata": {},
     "output_type": "execute_result"
    }
   ],
   "source": [
    "wine_data['province'] # or wine_data.province (see explanation above)"
   ]
  },
  {
   "cell_type": "markdown",
   "id": "b61a9b45",
   "metadata": {},
   "source": [
    "To select multiple columns and get a DataFrame:"
   ]
  },
  {
   "cell_type": "code",
   "execution_count": 48,
   "id": "d1e4b251",
   "metadata": {
    "scrolled": false
   },
   "outputs": [
    {
     "data": {
      "text/html": [
       "<div>\n",
       "<style scoped>\n",
       "    .dataframe tbody tr th:only-of-type {\n",
       "        vertical-align: middle;\n",
       "    }\n",
       "\n",
       "    .dataframe tbody tr th {\n",
       "        vertical-align: top;\n",
       "    }\n",
       "\n",
       "    .dataframe thead th {\n",
       "        text-align: right;\n",
       "    }\n",
       "</style>\n",
       "<table border=\"1\" class=\"dataframe\">\n",
       "  <thead>\n",
       "    <tr style=\"text-align: right;\">\n",
       "      <th></th>\n",
       "      <th>country</th>\n",
       "      <th>province</th>\n",
       "      <th>points</th>\n",
       "    </tr>\n",
       "  </thead>\n",
       "  <tbody>\n",
       "    <tr>\n",
       "      <th>0</th>\n",
       "      <td>Italy</td>\n",
       "      <td>Sicily &amp; Sardinia</td>\n",
       "      <td>87</td>\n",
       "    </tr>\n",
       "    <tr>\n",
       "      <th>1</th>\n",
       "      <td>Portugal</td>\n",
       "      <td>Douro</td>\n",
       "      <td>87</td>\n",
       "    </tr>\n",
       "    <tr>\n",
       "      <th>2</th>\n",
       "      <td>US</td>\n",
       "      <td>Oregon</td>\n",
       "      <td>87</td>\n",
       "    </tr>\n",
       "    <tr>\n",
       "      <th>3</th>\n",
       "      <td>US</td>\n",
       "      <td>Michigan</td>\n",
       "      <td>87</td>\n",
       "    </tr>\n",
       "    <tr>\n",
       "      <th>4</th>\n",
       "      <td>US</td>\n",
       "      <td>Oregon</td>\n",
       "      <td>87</td>\n",
       "    </tr>\n",
       "    <tr>\n",
       "      <th>...</th>\n",
       "      <td>...</td>\n",
       "      <td>...</td>\n",
       "      <td>...</td>\n",
       "    </tr>\n",
       "    <tr>\n",
       "      <th>129966</th>\n",
       "      <td>Germany</td>\n",
       "      <td>Mosel</td>\n",
       "      <td>90</td>\n",
       "    </tr>\n",
       "    <tr>\n",
       "      <th>129967</th>\n",
       "      <td>US</td>\n",
       "      <td>Oregon</td>\n",
       "      <td>90</td>\n",
       "    </tr>\n",
       "    <tr>\n",
       "      <th>129968</th>\n",
       "      <td>France</td>\n",
       "      <td>Alsace</td>\n",
       "      <td>90</td>\n",
       "    </tr>\n",
       "    <tr>\n",
       "      <th>129969</th>\n",
       "      <td>France</td>\n",
       "      <td>Alsace</td>\n",
       "      <td>90</td>\n",
       "    </tr>\n",
       "    <tr>\n",
       "      <th>129970</th>\n",
       "      <td>France</td>\n",
       "      <td>Alsace</td>\n",
       "      <td>90</td>\n",
       "    </tr>\n",
       "  </tbody>\n",
       "</table>\n",
       "<p>129971 rows × 3 columns</p>\n",
       "</div>"
      ],
      "text/plain": [
       "         country           province  points\n",
       "0          Italy  Sicily & Sardinia      87\n",
       "1       Portugal              Douro      87\n",
       "2             US             Oregon      87\n",
       "3             US           Michigan      87\n",
       "4             US             Oregon      87\n",
       "...          ...                ...     ...\n",
       "129966   Germany              Mosel      90\n",
       "129967        US             Oregon      90\n",
       "129968    France             Alsace      90\n",
       "129969    France             Alsace      90\n",
       "129970    France             Alsace      90\n",
       "\n",
       "[129971 rows x 3 columns]"
      ]
     },
     "execution_count": 48,
     "metadata": {},
     "output_type": "execute_result"
    }
   ],
   "source": [
    "wine_data[['country', 'province', 'points']]"
   ]
  },
  {
   "cell_type": "markdown",
   "id": "127c1d54",
   "metadata": {},
   "source": [
    "### Selecting Rows\n",
    "\n",
    "- **By position with `.iloc[]` (index-based selection):**  \n",
    "  Select rows and columns based on their integer position (starting from 0).\n",
    "\n",
    "- **By label with `.loc[]` (label-based selection):**  \n",
    "  Select rows and columns based on their index labels and column names.\n",
    "  \n",
    "---\n",
    "  \n",
    "- `.iloc[]` uses integer-based positions for both rows and columns.\n",
    "\n",
    "- `.loc[]` uses label-based indexing - for rows this means the DataFrame's index labels, and for columns the column names."
   ]
  },
  {
   "cell_type": "code",
   "execution_count": 54,
   "id": "99b151cd",
   "metadata": {},
   "outputs": [
    {
     "data": {
      "text/html": [
       "<div>\n",
       "<style scoped>\n",
       "    .dataframe tbody tr th:only-of-type {\n",
       "        vertical-align: middle;\n",
       "    }\n",
       "\n",
       "    .dataframe tbody tr th {\n",
       "        vertical-align: top;\n",
       "    }\n",
       "\n",
       "    .dataframe thead th {\n",
       "        text-align: right;\n",
       "    }\n",
       "</style>\n",
       "<table border=\"1\" class=\"dataframe\">\n",
       "  <thead>\n",
       "    <tr style=\"text-align: right;\">\n",
       "      <th></th>\n",
       "      <th>designation</th>\n",
       "      <th>taster_name</th>\n",
       "      <th>variety</th>\n",
       "    </tr>\n",
       "  </thead>\n",
       "  <tbody>\n",
       "    <tr>\n",
       "      <th>0</th>\n",
       "      <td>Vulkà Bianco</td>\n",
       "      <td>Kerin O’Keefe</td>\n",
       "      <td>White Blend</td>\n",
       "    </tr>\n",
       "    <tr>\n",
       "      <th>1</th>\n",
       "      <td>Avidagos</td>\n",
       "      <td>Roger Voss</td>\n",
       "      <td>Portuguese Red</td>\n",
       "    </tr>\n",
       "    <tr>\n",
       "      <th>2</th>\n",
       "      <td>NaN</td>\n",
       "      <td>Paul Gregutt</td>\n",
       "      <td>Pinot Gris</td>\n",
       "    </tr>\n",
       "    <tr>\n",
       "      <th>3</th>\n",
       "      <td>Reserve Late Harvest</td>\n",
       "      <td>Alexander Peartree</td>\n",
       "      <td>Riesling</td>\n",
       "    </tr>\n",
       "    <tr>\n",
       "      <th>4</th>\n",
       "      <td>Vintner's Reserve Wild Child Block</td>\n",
       "      <td>Paul Gregutt</td>\n",
       "      <td>Pinot Noir</td>\n",
       "    </tr>\n",
       "    <tr>\n",
       "      <th>...</th>\n",
       "      <td>...</td>\n",
       "      <td>...</td>\n",
       "      <td>...</td>\n",
       "    </tr>\n",
       "    <tr>\n",
       "      <th>129966</th>\n",
       "      <td>Brauneberger Juffer-Sonnenuhr Spätlese</td>\n",
       "      <td>Anna Lee C. Iijima</td>\n",
       "      <td>Riesling</td>\n",
       "    </tr>\n",
       "    <tr>\n",
       "      <th>129967</th>\n",
       "      <td>NaN</td>\n",
       "      <td>Paul Gregutt</td>\n",
       "      <td>Pinot Noir</td>\n",
       "    </tr>\n",
       "    <tr>\n",
       "      <th>129968</th>\n",
       "      <td>Kritt</td>\n",
       "      <td>Roger Voss</td>\n",
       "      <td>Gewürztraminer</td>\n",
       "    </tr>\n",
       "    <tr>\n",
       "      <th>129969</th>\n",
       "      <td>NaN</td>\n",
       "      <td>Roger Voss</td>\n",
       "      <td>Pinot Gris</td>\n",
       "    </tr>\n",
       "    <tr>\n",
       "      <th>129970</th>\n",
       "      <td>Lieu-dit Harth Cuvée Caroline</td>\n",
       "      <td>Roger Voss</td>\n",
       "      <td>Gewürztraminer</td>\n",
       "    </tr>\n",
       "  </tbody>\n",
       "</table>\n",
       "<p>129971 rows × 3 columns</p>\n",
       "</div>"
      ],
      "text/plain": [
       "                                   designation         taster_name  \\\n",
       "0                                 Vulkà Bianco       Kerin O’Keefe   \n",
       "1                                     Avidagos          Roger Voss   \n",
       "2                                          NaN        Paul Gregutt   \n",
       "3                         Reserve Late Harvest  Alexander Peartree   \n",
       "4           Vintner's Reserve Wild Child Block        Paul Gregutt   \n",
       "...                                        ...                 ...   \n",
       "129966  Brauneberger Juffer-Sonnenuhr Spätlese  Anna Lee C. Iijima   \n",
       "129967                                     NaN        Paul Gregutt   \n",
       "129968                                   Kritt          Roger Voss   \n",
       "129969                                     NaN          Roger Voss   \n",
       "129970           Lieu-dit Harth Cuvée Caroline          Roger Voss   \n",
       "\n",
       "               variety  \n",
       "0          White Blend  \n",
       "1       Portuguese Red  \n",
       "2           Pinot Gris  \n",
       "3             Riesling  \n",
       "4           Pinot Noir  \n",
       "...                ...  \n",
       "129966        Riesling  \n",
       "129967      Pinot Noir  \n",
       "129968  Gewürztraminer  \n",
       "129969      Pinot Gris  \n",
       "129970  Gewürztraminer  \n",
       "\n",
       "[129971 rows x 3 columns]"
      ]
     },
     "execution_count": 54,
     "metadata": {},
     "output_type": "execute_result"
    }
   ],
   "source": [
    "# Select the second row (remember Python uses zero-based indexing)\n",
    "wine_data.iloc[1]\n",
    "\n",
    "# Select the first three rows and all columns\n",
    "wine_data.iloc[:3, :]\n",
    "\n",
    "# Select all rows, but only specific columns by name\n",
    "wine_data.loc[:, ['designation', 'taster_name', 'variety']]"
   ]
  },
  {
   "cell_type": "markdown",
   "id": "d5095c65",
   "metadata": {},
   "source": [
    "## 5. Data Exploration\n",
    "\n",
    "In this section, we'll cover essential techniques to understand and prepare your data, including basic inspection, conditional filtering, handling missing values, and managing data types."
   ]
  },
  {
   "cell_type": "markdown",
   "id": "b1ebf82f",
   "metadata": {},
   "source": [
    "### 5.1 Inspecting Data\n",
    "\n",
    "Before diving into analysis or modeling, it's crucial to understand the structure and contents of your dataset. Pandas provides several handy methods to quickly get an overview:\n",
    "\n",
    "- `head(n)`: Displays the first *n* rows (default 5) to get a quick look at the data.\n",
    "\n",
    "- `info()`: Provides a concise summary of the DataFrame, including data types, non-null counts, and memory usage.\n",
    "\n",
    "- `columns`: Lists all column names (features) in the dataset, helping you understand what variables are available.\n",
    "\n",
    "- `dtypes`: Shows the data type of each column, which is essential for understanding how data will be handled and processed.\n",
    "\n",
    "- `describe()`: Generates summary statistics for numeric columns (mean, std, min, max, percentiles).\n",
    "\n",
    "- `unique()`: Returns the unique values in a column, which is useful for understanding categorical data or spotting anomalies.\n",
    "\n",
    "You can also use `describe()` on non-numeric (categorical) columns to get statistics like count, number of unique values, top frequent value, and frequency."
   ]
  },
  {
   "cell_type": "code",
   "execution_count": 57,
   "id": "fe1239cc",
   "metadata": {},
   "outputs": [
    {
     "data": {
      "text/html": [
       "<div>\n",
       "<style scoped>\n",
       "    .dataframe tbody tr th:only-of-type {\n",
       "        vertical-align: middle;\n",
       "    }\n",
       "\n",
       "    .dataframe tbody tr th {\n",
       "        vertical-align: top;\n",
       "    }\n",
       "\n",
       "    .dataframe thead th {\n",
       "        text-align: right;\n",
       "    }\n",
       "</style>\n",
       "<table border=\"1\" class=\"dataframe\">\n",
       "  <thead>\n",
       "    <tr style=\"text-align: right;\">\n",
       "      <th></th>\n",
       "      <th>country</th>\n",
       "      <th>description</th>\n",
       "      <th>designation</th>\n",
       "      <th>points</th>\n",
       "      <th>price</th>\n",
       "      <th>province</th>\n",
       "      <th>region_1</th>\n",
       "      <th>region_2</th>\n",
       "      <th>taster_name</th>\n",
       "      <th>taster_twitter_handle</th>\n",
       "      <th>title</th>\n",
       "      <th>variety</th>\n",
       "      <th>winery</th>\n",
       "    </tr>\n",
       "  </thead>\n",
       "  <tbody>\n",
       "    <tr>\n",
       "      <th>0</th>\n",
       "      <td>Italy</td>\n",
       "      <td>Aromas include tropical fruit, broom, brimston...</td>\n",
       "      <td>Vulkà Bianco</td>\n",
       "      <td>87</td>\n",
       "      <td>NaN</td>\n",
       "      <td>Sicily &amp; Sardinia</td>\n",
       "      <td>Etna</td>\n",
       "      <td>NaN</td>\n",
       "      <td>Kerin O’Keefe</td>\n",
       "      <td>@kerinokeefe</td>\n",
       "      <td>Nicosia 2013 Vulkà Bianco  (Etna)</td>\n",
       "      <td>White Blend</td>\n",
       "      <td>Nicosia</td>\n",
       "    </tr>\n",
       "    <tr>\n",
       "      <th>1</th>\n",
       "      <td>Portugal</td>\n",
       "      <td>This is ripe and fruity, a wine that is smooth...</td>\n",
       "      <td>Avidagos</td>\n",
       "      <td>87</td>\n",
       "      <td>15.0</td>\n",
       "      <td>Douro</td>\n",
       "      <td>NaN</td>\n",
       "      <td>NaN</td>\n",
       "      <td>Roger Voss</td>\n",
       "      <td>@vossroger</td>\n",
       "      <td>Quinta dos Avidagos 2011 Avidagos Red (Douro)</td>\n",
       "      <td>Portuguese Red</td>\n",
       "      <td>Quinta dos Avidagos</td>\n",
       "    </tr>\n",
       "    <tr>\n",
       "      <th>2</th>\n",
       "      <td>US</td>\n",
       "      <td>Tart and snappy, the flavors of lime flesh and...</td>\n",
       "      <td>NaN</td>\n",
       "      <td>87</td>\n",
       "      <td>14.0</td>\n",
       "      <td>Oregon</td>\n",
       "      <td>Willamette Valley</td>\n",
       "      <td>Willamette Valley</td>\n",
       "      <td>Paul Gregutt</td>\n",
       "      <td>@paulgwine</td>\n",
       "      <td>Rainstorm 2013 Pinot Gris (Willamette Valley)</td>\n",
       "      <td>Pinot Gris</td>\n",
       "      <td>Rainstorm</td>\n",
       "    </tr>\n",
       "    <tr>\n",
       "      <th>3</th>\n",
       "      <td>US</td>\n",
       "      <td>Pineapple rind, lemon pith and orange blossom ...</td>\n",
       "      <td>Reserve Late Harvest</td>\n",
       "      <td>87</td>\n",
       "      <td>13.0</td>\n",
       "      <td>Michigan</td>\n",
       "      <td>Lake Michigan Shore</td>\n",
       "      <td>NaN</td>\n",
       "      <td>Alexander Peartree</td>\n",
       "      <td>NaN</td>\n",
       "      <td>St. Julian 2013 Reserve Late Harvest Riesling ...</td>\n",
       "      <td>Riesling</td>\n",
       "      <td>St. Julian</td>\n",
       "    </tr>\n",
       "    <tr>\n",
       "      <th>4</th>\n",
       "      <td>US</td>\n",
       "      <td>Much like the regular bottling from 2012, this...</td>\n",
       "      <td>Vintner's Reserve Wild Child Block</td>\n",
       "      <td>87</td>\n",
       "      <td>65.0</td>\n",
       "      <td>Oregon</td>\n",
       "      <td>Willamette Valley</td>\n",
       "      <td>Willamette Valley</td>\n",
       "      <td>Paul Gregutt</td>\n",
       "      <td>@paulgwine</td>\n",
       "      <td>Sweet Cheeks 2012 Vintner's Reserve Wild Child...</td>\n",
       "      <td>Pinot Noir</td>\n",
       "      <td>Sweet Cheeks</td>\n",
       "    </tr>\n",
       "  </tbody>\n",
       "</table>\n",
       "</div>"
      ],
      "text/plain": [
       "    country                                        description  \\\n",
       "0     Italy  Aromas include tropical fruit, broom, brimston...   \n",
       "1  Portugal  This is ripe and fruity, a wine that is smooth...   \n",
       "2        US  Tart and snappy, the flavors of lime flesh and...   \n",
       "3        US  Pineapple rind, lemon pith and orange blossom ...   \n",
       "4        US  Much like the regular bottling from 2012, this...   \n",
       "\n",
       "                          designation  points  price           province  \\\n",
       "0                        Vulkà Bianco      87    NaN  Sicily & Sardinia   \n",
       "1                            Avidagos      87   15.0              Douro   \n",
       "2                                 NaN      87   14.0             Oregon   \n",
       "3                Reserve Late Harvest      87   13.0           Michigan   \n",
       "4  Vintner's Reserve Wild Child Block      87   65.0             Oregon   \n",
       "\n",
       "              region_1           region_2         taster_name  \\\n",
       "0                 Etna                NaN       Kerin O’Keefe   \n",
       "1                  NaN                NaN          Roger Voss   \n",
       "2    Willamette Valley  Willamette Valley        Paul Gregutt   \n",
       "3  Lake Michigan Shore                NaN  Alexander Peartree   \n",
       "4    Willamette Valley  Willamette Valley        Paul Gregutt   \n",
       "\n",
       "  taster_twitter_handle                                              title  \\\n",
       "0          @kerinokeefe                  Nicosia 2013 Vulkà Bianco  (Etna)   \n",
       "1            @vossroger      Quinta dos Avidagos 2011 Avidagos Red (Douro)   \n",
       "2           @paulgwine       Rainstorm 2013 Pinot Gris (Willamette Valley)   \n",
       "3                   NaN  St. Julian 2013 Reserve Late Harvest Riesling ...   \n",
       "4           @paulgwine   Sweet Cheeks 2012 Vintner's Reserve Wild Child...   \n",
       "\n",
       "          variety               winery  \n",
       "0     White Blend              Nicosia  \n",
       "1  Portuguese Red  Quinta dos Avidagos  \n",
       "2      Pinot Gris            Rainstorm  \n",
       "3        Riesling           St. Julian  \n",
       "4      Pinot Noir         Sweet Cheeks  "
      ]
     },
     "execution_count": 57,
     "metadata": {},
     "output_type": "execute_result"
    }
   ],
   "source": [
    "# Display the first 5 rows\n",
    "wine_data.head()"
   ]
  },
  {
   "cell_type": "code",
   "execution_count": 56,
   "id": "4da75371",
   "metadata": {
    "scrolled": true
   },
   "outputs": [
    {
     "name": "stdout",
     "output_type": "stream",
     "text": [
      "<class 'pandas.core.frame.DataFrame'>\n",
      "Int64Index: 129971 entries, 0 to 129970\n",
      "Data columns (total 13 columns):\n",
      " #   Column                 Non-Null Count   Dtype  \n",
      "---  ------                 --------------   -----  \n",
      " 0   country                129908 non-null  object \n",
      " 1   description            129971 non-null  object \n",
      " 2   designation            92506 non-null   object \n",
      " 3   points                 129971 non-null  int64  \n",
      " 4   price                  120975 non-null  float64\n",
      " 5   province               129908 non-null  object \n",
      " 6   region_1               108724 non-null  object \n",
      " 7   region_2               50511 non-null   object \n",
      " 8   taster_name            103727 non-null  object \n",
      " 9   taster_twitter_handle  98758 non-null   object \n",
      " 10  title                  129971 non-null  object \n",
      " 11  variety                129970 non-null  object \n",
      " 12  winery                 129971 non-null  object \n",
      "dtypes: float64(1), int64(1), object(11)\n",
      "memory usage: 13.9+ MB\n"
     ]
    }
   ],
   "source": [
    "# Summary info about the dataset\n",
    "wine_data.info()"
   ]
  },
  {
   "cell_type": "markdown",
   "id": "d54d0496",
   "metadata": {},
   "source": [
    "Before diving deeper into the data, it’s useful to get a quick list of all the columns (features) available in the dataset:"
   ]
  },
  {
   "cell_type": "code",
   "execution_count": 61,
   "id": "1c909baf",
   "metadata": {},
   "outputs": [
    {
     "data": {
      "text/plain": [
       "Index(['country', 'description', 'designation', 'points', 'price', 'province',\n",
       "       'region_1', 'region_2', 'taster_name', 'taster_twitter_handle', 'title',\n",
       "       'variety', 'winery'],\n",
       "      dtype='object')"
      ]
     },
     "execution_count": 61,
     "metadata": {},
     "output_type": "execute_result"
    }
   ],
   "source": [
    "# List all columns in the dataset\n",
    "wine_data.columns"
   ]
  },
  {
   "cell_type": "code",
   "execution_count": 62,
   "id": "1bca52f7",
   "metadata": {},
   "outputs": [
    {
     "data": {
      "text/plain": [
       "country                   object\n",
       "description               object\n",
       "designation               object\n",
       "points                     int64\n",
       "price                    float64\n",
       "province                  object\n",
       "region_1                  object\n",
       "region_2                  object\n",
       "taster_name               object\n",
       "taster_twitter_handle     object\n",
       "title                     object\n",
       "variety                   object\n",
       "winery                    object\n",
       "dtype: object"
      ]
     },
     "execution_count": 62,
     "metadata": {},
     "output_type": "execute_result"
    }
   ],
   "source": [
    "# Display data types of each column\n",
    "wine_data.dtypes"
   ]
  },
  {
   "cell_type": "code",
   "execution_count": 55,
   "id": "e3cc4bd3",
   "metadata": {},
   "outputs": [
    {
     "data": {
      "text/html": [
       "<div>\n",
       "<style scoped>\n",
       "    .dataframe tbody tr th:only-of-type {\n",
       "        vertical-align: middle;\n",
       "    }\n",
       "\n",
       "    .dataframe tbody tr th {\n",
       "        vertical-align: top;\n",
       "    }\n",
       "\n",
       "    .dataframe thead th {\n",
       "        text-align: right;\n",
       "    }\n",
       "</style>\n",
       "<table border=\"1\" class=\"dataframe\">\n",
       "  <thead>\n",
       "    <tr style=\"text-align: right;\">\n",
       "      <th></th>\n",
       "      <th>points</th>\n",
       "      <th>price</th>\n",
       "    </tr>\n",
       "  </thead>\n",
       "  <tbody>\n",
       "    <tr>\n",
       "      <th>count</th>\n",
       "      <td>129971.000000</td>\n",
       "      <td>120975.000000</td>\n",
       "    </tr>\n",
       "    <tr>\n",
       "      <th>mean</th>\n",
       "      <td>88.447138</td>\n",
       "      <td>35.363389</td>\n",
       "    </tr>\n",
       "    <tr>\n",
       "      <th>std</th>\n",
       "      <td>3.039730</td>\n",
       "      <td>41.022218</td>\n",
       "    </tr>\n",
       "    <tr>\n",
       "      <th>min</th>\n",
       "      <td>80.000000</td>\n",
       "      <td>4.000000</td>\n",
       "    </tr>\n",
       "    <tr>\n",
       "      <th>25%</th>\n",
       "      <td>86.000000</td>\n",
       "      <td>17.000000</td>\n",
       "    </tr>\n",
       "    <tr>\n",
       "      <th>50%</th>\n",
       "      <td>88.000000</td>\n",
       "      <td>25.000000</td>\n",
       "    </tr>\n",
       "    <tr>\n",
       "      <th>75%</th>\n",
       "      <td>91.000000</td>\n",
       "      <td>42.000000</td>\n",
       "    </tr>\n",
       "    <tr>\n",
       "      <th>max</th>\n",
       "      <td>100.000000</td>\n",
       "      <td>3300.000000</td>\n",
       "    </tr>\n",
       "  </tbody>\n",
       "</table>\n",
       "</div>"
      ],
      "text/plain": [
       "              points          price\n",
       "count  129971.000000  120975.000000\n",
       "mean       88.447138      35.363389\n",
       "std         3.039730      41.022218\n",
       "min        80.000000       4.000000\n",
       "25%        86.000000      17.000000\n",
       "50%        88.000000      25.000000\n",
       "75%        91.000000      42.000000\n",
       "max       100.000000    3300.000000"
      ]
     },
     "execution_count": 55,
     "metadata": {},
     "output_type": "execute_result"
    }
   ],
   "source": [
    "# Summary statistics for numeric columns\n",
    "wine_data.describe()"
   ]
  },
  {
   "cell_type": "code",
   "execution_count": 58,
   "id": "b900d740",
   "metadata": {
    "scrolled": true
   },
   "outputs": [
    {
     "data": {
      "text/plain": [
       "count     129908\n",
       "unique        43\n",
       "top           US\n",
       "freq       54504\n",
       "Name: country, dtype: object"
      ]
     },
     "execution_count": 58,
     "metadata": {},
     "output_type": "execute_result"
    }
   ],
   "source": [
    "# Summary statistics for a string/categorical column\n",
    "wine_data.country.describe()"
   ]
  },
  {
   "cell_type": "code",
   "execution_count": 75,
   "id": "222d52f6",
   "metadata": {},
   "outputs": [
    {
     "data": {
      "text/plain": [
       "array(['@kerinokeefe', '@vossroger', '@paulgwine', nan, '@wineschach',\n",
       "       '@vboone', '@mattkettmann', '@wawinereport', '@gordone_cellars',\n",
       "       '@JoeCz', '@AnneInVino', '@laurbuzz', '@worldwineguys',\n",
       "       '@suskostrzewa', '@bkfiona', '@winewchristina'], dtype=object)"
      ]
     },
     "execution_count": 75,
     "metadata": {},
     "output_type": "execute_result"
    }
   ],
   "source": [
    "wine_data.taster_twitter_handle.unique() # explicitly list all unique values in a column"
   ]
  },
  {
   "cell_type": "markdown",
   "id": "523a366d",
   "metadata": {},
   "source": [
    "### 5.2 Conditional Selection and Filtering\n",
    "\n",
    "Pandas allows you to filter datasets using boolean conditions, helping you focus on relevant subsets of your data.\n",
    "\n",
    "- Use logical operators (`==`, `&`, `|`) to build complex conditions.\n",
    "- `.isin()` helps filter rows where a column’s value belongs to a list.\n",
    "- `.isnull()` and `.notnull()` identify missing or present values, which is useful for filtering before handling missing data."
   ]
  },
  {
   "cell_type": "code",
   "execution_count": 63,
   "id": "1cf58514",
   "metadata": {},
   "outputs": [
    {
     "data": {
      "text/plain": [
       "0         False\n",
       "1         False\n",
       "2         False\n",
       "3         False\n",
       "4         False\n",
       "          ...  \n",
       "129966    False\n",
       "129967    False\n",
       "129968    False\n",
       "129969    False\n",
       "129970    False\n",
       "Name: country, Length: 129971, dtype: bool"
      ]
     },
     "execution_count": 63,
     "metadata": {},
     "output_type": "execute_result"
    }
   ],
   "source": [
    "wine_data.country == 'Argentina'  # Boolean series based on country"
   ]
  },
  {
   "cell_type": "code",
   "execution_count": 64,
   "id": "34fce289",
   "metadata": {
    "scrolled": true
   },
   "outputs": [
    {
     "data": {
      "text/html": [
       "<div>\n",
       "<style scoped>\n",
       "    .dataframe tbody tr th:only-of-type {\n",
       "        vertical-align: middle;\n",
       "    }\n",
       "\n",
       "    .dataframe tbody tr th {\n",
       "        vertical-align: top;\n",
       "    }\n",
       "\n",
       "    .dataframe thead th {\n",
       "        text-align: right;\n",
       "    }\n",
       "</style>\n",
       "<table border=\"1\" class=\"dataframe\">\n",
       "  <thead>\n",
       "    <tr style=\"text-align: right;\">\n",
       "      <th></th>\n",
       "      <th>country</th>\n",
       "      <th>description</th>\n",
       "      <th>designation</th>\n",
       "      <th>points</th>\n",
       "      <th>price</th>\n",
       "      <th>province</th>\n",
       "      <th>region_1</th>\n",
       "      <th>region_2</th>\n",
       "      <th>taster_name</th>\n",
       "      <th>taster_twitter_handle</th>\n",
       "      <th>title</th>\n",
       "      <th>variety</th>\n",
       "      <th>winery</th>\n",
       "    </tr>\n",
       "  </thead>\n",
       "  <tbody>\n",
       "    <tr>\n",
       "      <th>16</th>\n",
       "      <td>Argentina</td>\n",
       "      <td>Baked plum, molasses, balsamic vinegar and che...</td>\n",
       "      <td>Felix</td>\n",
       "      <td>87</td>\n",
       "      <td>30.0</td>\n",
       "      <td>Other</td>\n",
       "      <td>Cafayate</td>\n",
       "      <td>NaN</td>\n",
       "      <td>Michael Schachner</td>\n",
       "      <td>@wineschach</td>\n",
       "      <td>Felix Lavaque 2010 Felix Malbec (Cafayate)</td>\n",
       "      <td>Malbec</td>\n",
       "      <td>Felix Lavaque</td>\n",
       "    </tr>\n",
       "    <tr>\n",
       "      <th>17</th>\n",
       "      <td>Argentina</td>\n",
       "      <td>Raw black-cherry aromas are direct and simple ...</td>\n",
       "      <td>Winemaker Selection</td>\n",
       "      <td>87</td>\n",
       "      <td>13.0</td>\n",
       "      <td>Mendoza Province</td>\n",
       "      <td>Mendoza</td>\n",
       "      <td>NaN</td>\n",
       "      <td>Michael Schachner</td>\n",
       "      <td>@wineschach</td>\n",
       "      <td>Gaucho Andino 2011 Winemaker Selection Malbec ...</td>\n",
       "      <td>Malbec</td>\n",
       "      <td>Gaucho Andino</td>\n",
       "    </tr>\n",
       "    <tr>\n",
       "      <th>183</th>\n",
       "      <td>Argentina</td>\n",
       "      <td>With attractive melon and other tropical aroma...</td>\n",
       "      <td>NaN</td>\n",
       "      <td>88</td>\n",
       "      <td>12.0</td>\n",
       "      <td>Other</td>\n",
       "      <td>Salta</td>\n",
       "      <td>NaN</td>\n",
       "      <td>Michael Schachner</td>\n",
       "      <td>@wineschach</td>\n",
       "      <td>Alamos 2007 Torrontés (Salta)</td>\n",
       "      <td>Torrontés</td>\n",
       "      <td>Alamos</td>\n",
       "    </tr>\n",
       "    <tr>\n",
       "      <th>224</th>\n",
       "      <td>Argentina</td>\n",
       "      <td>Blackberry and road-tar aromas are dark and st...</td>\n",
       "      <td>Lunta</td>\n",
       "      <td>90</td>\n",
       "      <td>22.0</td>\n",
       "      <td>Mendoza Province</td>\n",
       "      <td>Luján de Cuyo</td>\n",
       "      <td>NaN</td>\n",
       "      <td>Michael Schachner</td>\n",
       "      <td>@wineschach</td>\n",
       "      <td>Mendel 2014 Lunta Malbec (Luján de Cuyo)</td>\n",
       "      <td>Malbec</td>\n",
       "      <td>Mendel</td>\n",
       "    </tr>\n",
       "    <tr>\n",
       "      <th>231</th>\n",
       "      <td>Argentina</td>\n",
       "      <td>Meaty and rubbery, but that's young Bonarda. T...</td>\n",
       "      <td>NaN</td>\n",
       "      <td>85</td>\n",
       "      <td>10.0</td>\n",
       "      <td>Mendoza Province</td>\n",
       "      <td>Mendoza</td>\n",
       "      <td>NaN</td>\n",
       "      <td>Michael Schachner</td>\n",
       "      <td>@wineschach</td>\n",
       "      <td>Andean Sky 2007 Bonarda (Mendoza)</td>\n",
       "      <td>Bonarda</td>\n",
       "      <td>Andean Sky</td>\n",
       "    </tr>\n",
       "    <tr>\n",
       "      <th>...</th>\n",
       "      <td>...</td>\n",
       "      <td>...</td>\n",
       "      <td>...</td>\n",
       "      <td>...</td>\n",
       "      <td>...</td>\n",
       "      <td>...</td>\n",
       "      <td>...</td>\n",
       "      <td>...</td>\n",
       "      <td>...</td>\n",
       "      <td>...</td>\n",
       "      <td>...</td>\n",
       "      <td>...</td>\n",
       "      <td>...</td>\n",
       "    </tr>\n",
       "    <tr>\n",
       "      <th>129921</th>\n",
       "      <td>Argentina</td>\n",
       "      <td>There is a select group of under-$20 Malbecs f...</td>\n",
       "      <td>La Madras Vineyard</td>\n",
       "      <td>91</td>\n",
       "      <td>18.0</td>\n",
       "      <td>Mendoza Province</td>\n",
       "      <td>Mendoza</td>\n",
       "      <td>NaN</td>\n",
       "      <td>Michael Schachner</td>\n",
       "      <td>@wineschach</td>\n",
       "      <td>Ricardo Santos 2006 La Madras Vineyard Malbec ...</td>\n",
       "      <td>Malbec</td>\n",
       "      <td>Ricardo Santos</td>\n",
       "    </tr>\n",
       "    <tr>\n",
       "      <th>129925</th>\n",
       "      <td>Argentina</td>\n",
       "      <td>A lively, well-made blend of Tempranillo, Malb...</td>\n",
       "      <td>B Crux</td>\n",
       "      <td>91</td>\n",
       "      <td>24.0</td>\n",
       "      <td>Mendoza Province</td>\n",
       "      <td>Uco Valley</td>\n",
       "      <td>NaN</td>\n",
       "      <td>Michael Schachner</td>\n",
       "      <td>@wineschach</td>\n",
       "      <td>O. Fournier 2005 B Crux Red (Uco Valley)</td>\n",
       "      <td>Red Blend</td>\n",
       "      <td>O. Fournier</td>\n",
       "    </tr>\n",
       "    <tr>\n",
       "      <th>129932</th>\n",
       "      <td>Argentina</td>\n",
       "      <td>Andeluna's top wines tend to be ripe and plump...</td>\n",
       "      <td>Pasionado</td>\n",
       "      <td>91</td>\n",
       "      <td>55.0</td>\n",
       "      <td>Mendoza Province</td>\n",
       "      <td>Uco Valley</td>\n",
       "      <td>NaN</td>\n",
       "      <td>Michael Schachner</td>\n",
       "      <td>@wineschach</td>\n",
       "      <td>Andeluna 2004 Pasionado Red (Uco Valley)</td>\n",
       "      <td>Red Blend</td>\n",
       "      <td>Andeluna</td>\n",
       "    </tr>\n",
       "    <tr>\n",
       "      <th>129938</th>\n",
       "      <td>Argentina</td>\n",
       "      <td>Compared to the regular 2006 Malbec from Chaka...</td>\n",
       "      <td>Reserve</td>\n",
       "      <td>91</td>\n",
       "      <td>25.0</td>\n",
       "      <td>Mendoza Province</td>\n",
       "      <td>Luján de Cuyo</td>\n",
       "      <td>NaN</td>\n",
       "      <td>Michael Schachner</td>\n",
       "      <td>@wineschach</td>\n",
       "      <td>Chakana 2006 Reserve Malbec (Luján de Cuyo)</td>\n",
       "      <td>Malbec</td>\n",
       "      <td>Chakana</td>\n",
       "    </tr>\n",
       "    <tr>\n",
       "      <th>129948</th>\n",
       "      <td>Argentina</td>\n",
       "      <td>Raspberry and cassis aromas are fresh and upri...</td>\n",
       "      <td>Pedernal</td>\n",
       "      <td>90</td>\n",
       "      <td>43.0</td>\n",
       "      <td>Other</td>\n",
       "      <td>San Juan</td>\n",
       "      <td>NaN</td>\n",
       "      <td>Michael Schachner</td>\n",
       "      <td>@wineschach</td>\n",
       "      <td>Finca Las Moras 2010 Pedernal Malbec (San Juan)</td>\n",
       "      <td>Malbec</td>\n",
       "      <td>Finca Las Moras</td>\n",
       "    </tr>\n",
       "  </tbody>\n",
       "</table>\n",
       "<p>3800 rows × 13 columns</p>\n",
       "</div>"
      ],
      "text/plain": [
       "          country                                        description  \\\n",
       "16      Argentina  Baked plum, molasses, balsamic vinegar and che...   \n",
       "17      Argentina  Raw black-cherry aromas are direct and simple ...   \n",
       "183     Argentina  With attractive melon and other tropical aroma...   \n",
       "224     Argentina  Blackberry and road-tar aromas are dark and st...   \n",
       "231     Argentina  Meaty and rubbery, but that's young Bonarda. T...   \n",
       "...           ...                                                ...   \n",
       "129921  Argentina  There is a select group of under-$20 Malbecs f...   \n",
       "129925  Argentina  A lively, well-made blend of Tempranillo, Malb...   \n",
       "129932  Argentina  Andeluna's top wines tend to be ripe and plump...   \n",
       "129938  Argentina  Compared to the regular 2006 Malbec from Chaka...   \n",
       "129948  Argentina  Raspberry and cassis aromas are fresh and upri...   \n",
       "\n",
       "                designation  points  price          province       region_1  \\\n",
       "16                    Felix      87   30.0             Other       Cafayate   \n",
       "17      Winemaker Selection      87   13.0  Mendoza Province        Mendoza   \n",
       "183                     NaN      88   12.0             Other          Salta   \n",
       "224                   Lunta      90   22.0  Mendoza Province  Luján de Cuyo   \n",
       "231                     NaN      85   10.0  Mendoza Province        Mendoza   \n",
       "...                     ...     ...    ...               ...            ...   \n",
       "129921   La Madras Vineyard      91   18.0  Mendoza Province        Mendoza   \n",
       "129925               B Crux      91   24.0  Mendoza Province     Uco Valley   \n",
       "129932            Pasionado      91   55.0  Mendoza Province     Uco Valley   \n",
       "129938              Reserve      91   25.0  Mendoza Province  Luján de Cuyo   \n",
       "129948             Pedernal      90   43.0             Other       San Juan   \n",
       "\n",
       "       region_2        taster_name taster_twitter_handle  \\\n",
       "16          NaN  Michael Schachner           @wineschach   \n",
       "17          NaN  Michael Schachner           @wineschach   \n",
       "183         NaN  Michael Schachner           @wineschach   \n",
       "224         NaN  Michael Schachner           @wineschach   \n",
       "231         NaN  Michael Schachner           @wineschach   \n",
       "...         ...                ...                   ...   \n",
       "129921      NaN  Michael Schachner           @wineschach   \n",
       "129925      NaN  Michael Schachner           @wineschach   \n",
       "129932      NaN  Michael Schachner           @wineschach   \n",
       "129938      NaN  Michael Schachner           @wineschach   \n",
       "129948      NaN  Michael Schachner           @wineschach   \n",
       "\n",
       "                                                    title    variety  \\\n",
       "16             Felix Lavaque 2010 Felix Malbec (Cafayate)     Malbec   \n",
       "17      Gaucho Andino 2011 Winemaker Selection Malbec ...     Malbec   \n",
       "183                         Alamos 2007 Torrontés (Salta)  Torrontés   \n",
       "224              Mendel 2014 Lunta Malbec (Luján de Cuyo)     Malbec   \n",
       "231                     Andean Sky 2007 Bonarda (Mendoza)    Bonarda   \n",
       "...                                                   ...        ...   \n",
       "129921  Ricardo Santos 2006 La Madras Vineyard Malbec ...     Malbec   \n",
       "129925           O. Fournier 2005 B Crux Red (Uco Valley)  Red Blend   \n",
       "129932           Andeluna 2004 Pasionado Red (Uco Valley)  Red Blend   \n",
       "129938        Chakana 2006 Reserve Malbec (Luján de Cuyo)     Malbec   \n",
       "129948    Finca Las Moras 2010 Pedernal Malbec (San Juan)     Malbec   \n",
       "\n",
       "                 winery  \n",
       "16        Felix Lavaque  \n",
       "17        Gaucho Andino  \n",
       "183              Alamos  \n",
       "224              Mendel  \n",
       "231          Andean Sky  \n",
       "...                 ...  \n",
       "129921   Ricardo Santos  \n",
       "129925      O. Fournier  \n",
       "129932         Andeluna  \n",
       "129938          Chakana  \n",
       "129948  Finca Las Moras  \n",
       "\n",
       "[3800 rows x 13 columns]"
      ]
     },
     "execution_count": 64,
     "metadata": {},
     "output_type": "execute_result"
    }
   ],
   "source": [
    "wine_data[wine_data.country == 'Argentina']  # Filter rows where country is Argentina"
   ]
  },
  {
   "cell_type": "code",
   "execution_count": 66,
   "id": "510781cd",
   "metadata": {},
   "outputs": [],
   "source": [
    "wine_data[(wine_data.country == 'Argentina') & (wine_data.price >= 20)]  # Multiple conditions (AND)\n",
    "wine_data[(wine_data.country == 'Argentina') | (wine_data.price >= 20)]  # Multiple conditions (OR)\n",
    "wine_data[wine_data.country.isin(['Italy', 'Argentina'])];  # Filter for countries in a list"
   ]
  },
  {
   "cell_type": "code",
   "execution_count": 68,
   "id": "43d888ca",
   "metadata": {},
   "outputs": [],
   "source": [
    "wine_data[wine_data.price.notnull()]  # Filter non-missing price values\n",
    "wine_data[wine_data.price.isnull()];   # Filter missing price values"
   ]
  },
  {
   "cell_type": "markdown",
   "id": "784fc18d",
   "metadata": {},
   "source": [
    "### 5.3 Handling Missing Values\n",
    "\n",
    "Missing data is a common challenge in real-world datasets. It's essential to identify and understand the extent of missing values before deciding how to handle them.\n",
    "\n",
    "#### Handling Missing Values - Overview\n",
    "\n",
    "Pandas offers straightforward methods to count and summarize missing data:\n",
    "\n",
    "- `.isnull()` and `.notnull()` identify missing or present data, returning boolean masks.\n",
    "- `.sum()` applied on these masks counts missing entries per column or row.\n",
    "- Calculating total and percentage of missing data helps assess dataset quality."
   ]
  },
  {
   "cell_type": "code",
   "execution_count": 72,
   "id": "b4c89356",
   "metadata": {},
   "outputs": [
    {
     "name": "stdout",
     "output_type": "stream",
     "text": [
      "country                     63\n",
      "description                  0\n",
      "designation              37465\n",
      "points                       0\n",
      "price                     8996\n",
      "province                    63\n",
      "region_1                 21247\n",
      "region_2                 79460\n",
      "taster_name              26244\n",
      "taster_twitter_handle    31213\n",
      "title                        0\n",
      "variety                      1\n",
      "winery                       0\n",
      "dtype: int64\n",
      "\n",
      "Total missing values: 204752\n",
      "Percentage missing: 12.12%\n"
     ]
    }
   ],
   "source": [
    "# Count missing values per column\n",
    "missing_per_column = wine_data.isnull().sum()\n",
    "print(missing_per_column)\n",
    "print()\n",
    "# Calculate total and percentage of missing values in the dataset\n",
    "total = np.product(wine_data.shape)\n",
    "total_missing = missing_per_column.sum()\n",
    "percent_missing = (total_missing / total) * 100\n",
    "print(f\"Total missing values: {total_missing}\")\n",
    "print(f\"Percentage missing: {percent_missing:.2f}%\")"
   ]
  },
  {
   "cell_type": "code",
   "execution_count": 70,
   "id": "bc083fce",
   "metadata": {},
   "outputs": [
    {
     "data": {
      "text/plain": [
       "country                     63\n",
       "description                  0\n",
       "designation              37465\n",
       "points                       0\n",
       "price                     8996\n",
       "province                    63\n",
       "region_1                 21247\n",
       "region_2                 79460\n",
       "taster_name              26244\n",
       "taster_twitter_handle    31213\n",
       "title                        0\n",
       "variety                      1\n",
       "winery                       0\n",
       "dtype: int64"
      ]
     },
     "execution_count": 70,
     "metadata": {},
     "output_type": "execute_result"
    }
   ],
   "source": [
    "# Count missing values per column\n",
    "wine_data.isnull().sum()"
   ]
  },
  {
   "cell_type": "markdown",
   "id": "e3aa00c6",
   "metadata": {},
   "source": [
    "#### Handling Missing Values - Common Methods\n",
    "\n",
    "- `.fillna()` replaces missing values with specified defaults or strategies.\n",
    "- `.replace()` fixes specific incorrect or unwanted values in your dataset.\n",
    "- Other strategies include dropping missing data (`.dropna()`) or imputing values."
   ]
  },
  {
   "cell_type": "code",
   "execution_count": 73,
   "id": "efa305bb",
   "metadata": {},
   "outputs": [],
   "source": [
    "# Replace missing values in a specific column with a default value\n",
    "wine_data['region_1_filled'] = wine_data['region_1'].fillna(\"Unknown\")\n",
    "\n",
    "# Replace specific incorrect/unwanted values in a column\n",
    "wine_data['taster_twitter_handle'] = wine_data['taster_twitter_handle'].replace(\"@paulgwine\\xa0\", \"@paulgwine\")\n",
    "\n",
    "# (Optional) Drop rows with missing values in certain columns\n",
    "wine_data_dropped = wine_data.dropna(subset=['price', 'points'])"
   ]
  },
  {
   "cell_type": "markdown",
   "id": "c7804980",
   "metadata": {},
   "source": [
    "### 5.4 Data Types and Conversions\n",
    "\n",
    "Understanding and managing data types is crucial for effective analysis and model building. \n",
    "\n",
    "Pandas provides useful methods to inspect and convert data types within a DataFrame.\n",
    "\n",
    "- Use `.dtypes` to view the data type of each column.\n",
    "\n",
    "- Sometimes you may need to convert columns to appropriate types for performance or compatibility reasons. Common conversions include:\n",
    "\n",
    "  - `.astype()` to convert a column to a specific type (e.g., integer, float, category).\n",
    "\n",
    "  - `.to_datetime()` to convert columns containing dates or times into pandas datetime objects for easier manipulation."
   ]
  },
  {
   "cell_type": "code",
   "execution_count": 92,
   "id": "dd15a970",
   "metadata": {},
   "outputs": [
    {
     "data": {
      "text/plain": [
       "country                   object\n",
       "description               object\n",
       "designation               object\n",
       "points                   float64\n",
       "price                    float64\n",
       "province                  object\n",
       "region_1                  object\n",
       "region_2                  object\n",
       "taster_name               object\n",
       "taster_twitter_handle     object\n",
       "title                     object\n",
       "variety                   object\n",
       "winery                    object\n",
       "region_1_filled           object\n",
       "dtype: object"
      ]
     },
     "execution_count": 92,
     "metadata": {},
     "output_type": "execute_result"
    }
   ],
   "source": [
    "# Check data types\n",
    "wine_data.dtypes # or wine_data.points.dtypes for checking a single specific column "
   ]
  },
  {
   "cell_type": "code",
   "execution_count": 90,
   "id": "169c7bbd",
   "metadata": {},
   "outputs": [],
   "source": [
    "# Convert 'points' to float (if needed)\n",
    "wine_data['points'] = wine_data['points'].astype(float)"
   ]
  },
  {
   "cell_type": "markdown",
   "id": "3e279518",
   "metadata": {},
   "source": [
    "You can create or modify columns by simple assignment, and pandas will infer the data type automatically."
   ]
  },
  {
   "cell_type": "code",
   "execution_count": 93,
   "id": "47dec98d",
   "metadata": {
    "scrolled": true
   },
   "outputs": [
    {
     "data": {
      "text/plain": [
       "0    yes\n",
       "1    yes\n",
       "2    yes\n",
       "3    yes\n",
       "4    yes\n",
       "Name: checked, dtype: object"
      ]
     },
     "execution_count": 93,
     "metadata": {},
     "output_type": "execute_result"
    }
   ],
   "source": [
    "# Assign a new column with a constant value\n",
    "wine_data['checked'] = 'yes'\n",
    "wine_data['checked'].head()"
   ]
  },
  {
   "cell_type": "markdown",
   "id": "0cdcceaf",
   "metadata": {},
   "source": [
    "#### Parsing Dates\n",
    "\n",
    "Dates can come in many formats, for example:\n",
    "\n",
    "- `7/13/07` with format `\"%m/%d/%y\"`\n",
    "\n",
    "- `13-7-2007` with format `\"%d-%m-%Y\"`\n",
    "\n",
    "You can convert date columns to datetime using:\n",
    "\n",
    "`pd.to_datetime(data_column, format=\"%m/%d/%y\")`\n",
    "\n",
    "Specifying the format speeds up conversion. Alternatively, letting pandas infer the format can handle mixed date formats but is generally slower (but might be useful if we have multiple formats):\n",
    "\n",
    "`pd.to_datetime(data_column, infer_datetime_format=True)`\n",
    "\n",
    "Once converted to datetime, you can easily extract components like day, month, or year using the `.dt` accessor."
   ]
  },
  {
   "cell_type": "code",
   "execution_count": null,
   "id": "5b996c78",
   "metadata": {},
   "outputs": [],
   "source": [
    "# Example: converting a string column to datetime\n",
    "sample_dates = pd.Series(['2022-01-01', '2022-02-15', '2022-03-30'])\n",
    "sample_dates_dt = pd.to_datetime(sample_dates)\n",
    "print(sample_dates_dt)\n",
    "print()\n",
    "# Now you can easily extract the year, month, or day\n",
    "print(sample_dates_dt.dt.year)\n",
    "print(sample_dates_dt.dt.month)"
   ]
  },
  {
   "cell_type": "markdown",
   "id": "a7d4e185",
   "metadata": {},
   "source": [
    "## 📊 6. Statistical Summaries and Correlation\n",
    "\n",
    "Before performing deeper analysis or building models, it's helpful to understand the statistical properties and relationships within your data.\n",
    "\n",
    "Pandas offers a range of built-in functions to quickly compute descriptive statistics and examine correlations between numerical features. These tools allow you to identify trends, spot outliers, and better understand how variables relate to one another.\n",
    "\n",
    "In this section, we’ll explore:\n",
    "\n",
    "- Basic statistical methods (`mean()`, `min()`, `max()`, etc.)\n",
    "- Pairwise correlations between numeric columns using `.corr()`\n",
    "- Sorting correlation values to find the strongest relationships\n",
    "- Frequency counts for categorical data (`.value_counts()`)"
   ]
  },
  {
   "cell_type": "code",
   "execution_count": 98,
   "id": "87f6cb1d",
   "metadata": {},
   "outputs": [],
   "source": [
    "# statistic functions examples\n",
    "\n",
    "wine_data.points.mean()\n",
    "wine_data.points.min()\n",
    "wine_data.points.max();"
   ]
  },
  {
   "cell_type": "code",
   "execution_count": 101,
   "id": "e8a384f3",
   "metadata": {},
   "outputs": [
    {
     "data": {
      "text/plain": [
       "price     1.000000\n",
       "points    0.416167\n",
       "Name: price, dtype: float64"
      ]
     },
     "execution_count": 101,
     "metadata": {},
     "output_type": "execute_result"
    }
   ],
   "source": [
    "# The .corr() function in pandas computes the pairwise correlation coefficients between numeric columns in a DataFrame.\n",
    "# Notes:\n",
    "# 1) Only numeric columns are included.\n",
    "# 2) Uses Pearson correlation by default.\n",
    "# 3) Doesn’t detect nonlinear relationships.\n",
    "\n",
    "wine_data.corr()"
   ]
  },
  {
   "cell_type": "code",
   "execution_count": 102,
   "id": "aa21782c",
   "metadata": {},
   "outputs": [
    {
     "data": {
      "text/plain": [
       "price     1.000000\n",
       "points    0.416167\n",
       "Name: price, dtype: float64"
      ]
     },
     "execution_count": 102,
     "metadata": {},
     "output_type": "execute_result"
    }
   ],
   "source": [
    "# If using pandas >= 1.5.0, you can use numeric_only=True\n",
    "# corr_matrix = wine_data.corr(numeric_only=True)\n",
    "\n",
    "# Alternative method for older versions: select only numeric columns first\n",
    "corr_matrix = wine_data.select_dtypes(include='number').corr()\n",
    "\n",
    "# Sort correlation values with respect to 'price'\n",
    "corr_matrix['price'].sort_values(ascending=False)"
   ]
  },
  {
   "cell_type": "markdown",
   "id": "7604b455",
   "metadata": {},
   "source": [
    "### 🧮 Value Counts for Categorical Columns\n",
    "\n",
    "You can use `.value_counts()` to see how often each unique value appears in a column; especially useful for categorical features.\n",
    "\n",
    "📌 **Note:** `value_counts()` automatically ignores missing values by default.  \n",
    "Use `dropna=False` if you want to include them: `wine_data.taster_name.value_counts(dropna=False)`"
   ]
  },
  {
   "cell_type": "code",
   "execution_count": 105,
   "id": "8734d901",
   "metadata": {},
   "outputs": [
    {
     "data": {
      "text/plain": [
       "Roger Voss            25514\n",
       "Michael Schachner     15134\n",
       "Kerin O’Keefe         10776\n",
       "Virginie Boone         9537\n",
       "Paul Gregutt           9532\n",
       "Matt Kettmann          6332\n",
       "Joe Czerwinski         5147\n",
       "Sean P. Sullivan       4966\n",
       "Anna Lee C. Iijima     4415\n",
       "Jim Gordon             4177\n",
       "Anne Krebiehl MW       3685\n",
       "Lauren Buzzeo          1835\n",
       "Susan Kostrzewa        1085\n",
       "Mike DeSimone           514\n",
       "Jeff Jenssen            491\n",
       "Alexander Peartree      415\n",
       "Carrie Dykes            139\n",
       "Fiona Adams              27\n",
       "Christina Pickard         6\n",
       "Name: taster_name, dtype: int64"
      ]
     },
     "execution_count": 105,
     "metadata": {},
     "output_type": "execute_result"
    }
   ],
   "source": [
    "# Count how many times each unique wine taster appears in the dataset\n",
    "wine_data.taster_name.value_counts() "
   ]
  },
  {
   "cell_type": "markdown",
   "id": "58d0bffd",
   "metadata": {},
   "source": [
    "## 7. Grouping, Aggregation & Sorting\n",
    "\n",
    "### Grouping and Aggregation\n",
    "\n",
    "Grouping allows you to split your DataFrame into subsets based on column values and then apply aggregation functions (like count, sum, mean) to each group. This is useful for summarizing and analyzing data by categories.\n",
    "\n",
    "For example, you can replicate what `value_counts()` does with:"
   ]
  },
  {
   "cell_type": "code",
   "execution_count": 107,
   "id": "56ed6724",
   "metadata": {},
   "outputs": [
    {
     "data": {
      "text/plain": [
       "points\n",
       "80.0       397\n",
       "81.0       692\n",
       "82.0      1836\n",
       "83.0      3025\n",
       "84.0      6480\n",
       "85.0      9530\n",
       "86.0     12600\n",
       "87.0     16933\n",
       "88.0     17207\n",
       "89.0     12226\n",
       "90.0     15410\n",
       "91.0     11359\n",
       "92.0      9613\n",
       "93.0      6489\n",
       "94.0      3758\n",
       "95.0      1535\n",
       "96.0       523\n",
       "97.0       229\n",
       "98.0        77\n",
       "99.0        33\n",
       "100.0       19\n",
       "Name: points, dtype: int64"
      ]
     },
     "execution_count": 107,
     "metadata": {},
     "output_type": "execute_result"
    }
   ],
   "source": [
    "wine_data.groupby('points').points.count() \n",
    "# This groups the data by points and counts the number of entries in each group."
   ]
  },
  {
   "cell_type": "markdown",
   "id": "214051ae",
   "metadata": {},
   "source": [
    "You can also calculate summary statistics within groups. For example:"
   ]
  },
  {
   "cell_type": "code",
   "execution_count": 108,
   "id": "45e52633",
   "metadata": {},
   "outputs": [
    {
     "data": {
      "text/plain": [
       "points\n",
       "80.0      16.372152\n",
       "81.0      17.182353\n",
       "82.0      18.870767\n",
       "83.0      18.237353\n",
       "84.0      19.310215\n",
       "85.0      19.949562\n",
       "86.0      22.133759\n",
       "87.0      24.901884\n",
       "88.0      28.687523\n",
       "89.0      32.169640\n",
       "90.0      36.906622\n",
       "91.0      43.224252\n",
       "92.0      51.037763\n",
       "93.0      63.112216\n",
       "94.0      81.436938\n",
       "95.0     109.235420\n",
       "96.0     159.292531\n",
       "97.0     207.173913\n",
       "98.0     245.492754\n",
       "99.0     284.214286\n",
       "100.0    485.947368\n",
       "Name: price, dtype: float64"
      ]
     },
     "execution_count": 108,
     "metadata": {},
     "output_type": "execute_result"
    }
   ],
   "source": [
    "# Average price for each points rating\n",
    "wine_data.groupby('points').price.mean()"
   ]
  },
  {
   "cell_type": "markdown",
   "id": "ed8ffa2f",
   "metadata": {},
   "source": [
    "Or aggregate multiple statistics at once using `.agg()`:"
   ]
  },
  {
   "cell_type": "code",
   "execution_count": 109,
   "id": "99115676",
   "metadata": {
    "scrolled": true
   },
   "outputs": [
    {
     "data": {
      "text/html": [
       "<div>\n",
       "<style scoped>\n",
       "    .dataframe tbody tr th:only-of-type {\n",
       "        vertical-align: middle;\n",
       "    }\n",
       "\n",
       "    .dataframe tbody tr th {\n",
       "        vertical-align: top;\n",
       "    }\n",
       "\n",
       "    .dataframe thead th {\n",
       "        text-align: right;\n",
       "    }\n",
       "</style>\n",
       "<table border=\"1\" class=\"dataframe\">\n",
       "  <thead>\n",
       "    <tr style=\"text-align: right;\">\n",
       "      <th></th>\n",
       "      <th>len</th>\n",
       "      <th>min</th>\n",
       "      <th>max</th>\n",
       "    </tr>\n",
       "    <tr>\n",
       "      <th>country</th>\n",
       "      <th></th>\n",
       "      <th></th>\n",
       "      <th></th>\n",
       "    </tr>\n",
       "  </thead>\n",
       "  <tbody>\n",
       "    <tr>\n",
       "      <th>Argentina</th>\n",
       "      <td>3800.0</td>\n",
       "      <td>4.0</td>\n",
       "      <td>230.0</td>\n",
       "    </tr>\n",
       "    <tr>\n",
       "      <th>Armenia</th>\n",
       "      <td>2.0</td>\n",
       "      <td>14.0</td>\n",
       "      <td>15.0</td>\n",
       "    </tr>\n",
       "    <tr>\n",
       "      <th>Australia</th>\n",
       "      <td>2329.0</td>\n",
       "      <td>5.0</td>\n",
       "      <td>850.0</td>\n",
       "    </tr>\n",
       "    <tr>\n",
       "      <th>Austria</th>\n",
       "      <td>3345.0</td>\n",
       "      <td>7.0</td>\n",
       "      <td>1100.0</td>\n",
       "    </tr>\n",
       "    <tr>\n",
       "      <th>Bosnia and Herzegovina</th>\n",
       "      <td>2.0</td>\n",
       "      <td>12.0</td>\n",
       "      <td>13.0</td>\n",
       "    </tr>\n",
       "    <tr>\n",
       "      <th>Brazil</th>\n",
       "      <td>52.0</td>\n",
       "      <td>10.0</td>\n",
       "      <td>60.0</td>\n",
       "    </tr>\n",
       "    <tr>\n",
       "      <th>Bulgaria</th>\n",
       "      <td>141.0</td>\n",
       "      <td>8.0</td>\n",
       "      <td>100.0</td>\n",
       "    </tr>\n",
       "    <tr>\n",
       "      <th>Canada</th>\n",
       "      <td>257.0</td>\n",
       "      <td>12.0</td>\n",
       "      <td>120.0</td>\n",
       "    </tr>\n",
       "    <tr>\n",
       "      <th>Chile</th>\n",
       "      <td>4472.0</td>\n",
       "      <td>5.0</td>\n",
       "      <td>400.0</td>\n",
       "    </tr>\n",
       "    <tr>\n",
       "      <th>China</th>\n",
       "      <td>1.0</td>\n",
       "      <td>18.0</td>\n",
       "      <td>18.0</td>\n",
       "    </tr>\n",
       "    <tr>\n",
       "      <th>Croatia</th>\n",
       "      <td>73.0</td>\n",
       "      <td>12.0</td>\n",
       "      <td>65.0</td>\n",
       "    </tr>\n",
       "    <tr>\n",
       "      <th>Cyprus</th>\n",
       "      <td>11.0</td>\n",
       "      <td>11.0</td>\n",
       "      <td>21.0</td>\n",
       "    </tr>\n",
       "    <tr>\n",
       "      <th>Czech Republic</th>\n",
       "      <td>12.0</td>\n",
       "      <td>15.0</td>\n",
       "      <td>45.0</td>\n",
       "    </tr>\n",
       "    <tr>\n",
       "      <th>Egypt</th>\n",
       "      <td>1.0</td>\n",
       "      <td>NaN</td>\n",
       "      <td>NaN</td>\n",
       "    </tr>\n",
       "    <tr>\n",
       "      <th>England</th>\n",
       "      <td>74.0</td>\n",
       "      <td>25.0</td>\n",
       "      <td>95.0</td>\n",
       "    </tr>\n",
       "    <tr>\n",
       "      <th>France</th>\n",
       "      <td>22093.0</td>\n",
       "      <td>5.0</td>\n",
       "      <td>3300.0</td>\n",
       "    </tr>\n",
       "    <tr>\n",
       "      <th>Georgia</th>\n",
       "      <td>86.0</td>\n",
       "      <td>9.0</td>\n",
       "      <td>40.0</td>\n",
       "    </tr>\n",
       "    <tr>\n",
       "      <th>Germany</th>\n",
       "      <td>2165.0</td>\n",
       "      <td>5.0</td>\n",
       "      <td>775.0</td>\n",
       "    </tr>\n",
       "    <tr>\n",
       "      <th>Greece</th>\n",
       "      <td>466.0</td>\n",
       "      <td>8.0</td>\n",
       "      <td>79.0</td>\n",
       "    </tr>\n",
       "    <tr>\n",
       "      <th>Hungary</th>\n",
       "      <td>146.0</td>\n",
       "      <td>10.0</td>\n",
       "      <td>764.0</td>\n",
       "    </tr>\n",
       "    <tr>\n",
       "      <th>India</th>\n",
       "      <td>9.0</td>\n",
       "      <td>10.0</td>\n",
       "      <td>20.0</td>\n",
       "    </tr>\n",
       "    <tr>\n",
       "      <th>Israel</th>\n",
       "      <td>505.0</td>\n",
       "      <td>8.0</td>\n",
       "      <td>150.0</td>\n",
       "    </tr>\n",
       "    <tr>\n",
       "      <th>Italy</th>\n",
       "      <td>19540.0</td>\n",
       "      <td>5.0</td>\n",
       "      <td>900.0</td>\n",
       "    </tr>\n",
       "    <tr>\n",
       "      <th>Lebanon</th>\n",
       "      <td>35.0</td>\n",
       "      <td>13.0</td>\n",
       "      <td>75.0</td>\n",
       "    </tr>\n",
       "    <tr>\n",
       "      <th>Luxembourg</th>\n",
       "      <td>6.0</td>\n",
       "      <td>16.0</td>\n",
       "      <td>30.0</td>\n",
       "    </tr>\n",
       "    <tr>\n",
       "      <th>Macedonia</th>\n",
       "      <td>12.0</td>\n",
       "      <td>15.0</td>\n",
       "      <td>20.0</td>\n",
       "    </tr>\n",
       "    <tr>\n",
       "      <th>Mexico</th>\n",
       "      <td>70.0</td>\n",
       "      <td>8.0</td>\n",
       "      <td>108.0</td>\n",
       "    </tr>\n",
       "    <tr>\n",
       "      <th>Moldova</th>\n",
       "      <td>59.0</td>\n",
       "      <td>8.0</td>\n",
       "      <td>42.0</td>\n",
       "    </tr>\n",
       "    <tr>\n",
       "      <th>Morocco</th>\n",
       "      <td>28.0</td>\n",
       "      <td>14.0</td>\n",
       "      <td>40.0</td>\n",
       "    </tr>\n",
       "    <tr>\n",
       "      <th>New Zealand</th>\n",
       "      <td>1419.0</td>\n",
       "      <td>7.0</td>\n",
       "      <td>130.0</td>\n",
       "    </tr>\n",
       "    <tr>\n",
       "      <th>Peru</th>\n",
       "      <td>16.0</td>\n",
       "      <td>10.0</td>\n",
       "      <td>68.0</td>\n",
       "    </tr>\n",
       "    <tr>\n",
       "      <th>Portugal</th>\n",
       "      <td>5691.0</td>\n",
       "      <td>5.0</td>\n",
       "      <td>1000.0</td>\n",
       "    </tr>\n",
       "    <tr>\n",
       "      <th>Romania</th>\n",
       "      <td>120.0</td>\n",
       "      <td>4.0</td>\n",
       "      <td>320.0</td>\n",
       "    </tr>\n",
       "    <tr>\n",
       "      <th>Serbia</th>\n",
       "      <td>12.0</td>\n",
       "      <td>15.0</td>\n",
       "      <td>42.0</td>\n",
       "    </tr>\n",
       "    <tr>\n",
       "      <th>Slovakia</th>\n",
       "      <td>1.0</td>\n",
       "      <td>16.0</td>\n",
       "      <td>16.0</td>\n",
       "    </tr>\n",
       "    <tr>\n",
       "      <th>Slovenia</th>\n",
       "      <td>87.0</td>\n",
       "      <td>7.0</td>\n",
       "      <td>90.0</td>\n",
       "    </tr>\n",
       "    <tr>\n",
       "      <th>South Africa</th>\n",
       "      <td>1401.0</td>\n",
       "      <td>5.0</td>\n",
       "      <td>330.0</td>\n",
       "    </tr>\n",
       "    <tr>\n",
       "      <th>Spain</th>\n",
       "      <td>6645.0</td>\n",
       "      <td>4.0</td>\n",
       "      <td>770.0</td>\n",
       "    </tr>\n",
       "    <tr>\n",
       "      <th>Switzerland</th>\n",
       "      <td>7.0</td>\n",
       "      <td>21.0</td>\n",
       "      <td>160.0</td>\n",
       "    </tr>\n",
       "    <tr>\n",
       "      <th>Turkey</th>\n",
       "      <td>90.0</td>\n",
       "      <td>14.0</td>\n",
       "      <td>120.0</td>\n",
       "    </tr>\n",
       "    <tr>\n",
       "      <th>US</th>\n",
       "      <td>54504.0</td>\n",
       "      <td>4.0</td>\n",
       "      <td>2013.0</td>\n",
       "    </tr>\n",
       "    <tr>\n",
       "      <th>Ukraine</th>\n",
       "      <td>14.0</td>\n",
       "      <td>6.0</td>\n",
       "      <td>13.0</td>\n",
       "    </tr>\n",
       "    <tr>\n",
       "      <th>Uruguay</th>\n",
       "      <td>109.0</td>\n",
       "      <td>10.0</td>\n",
       "      <td>130.0</td>\n",
       "    </tr>\n",
       "  </tbody>\n",
       "</table>\n",
       "</div>"
      ],
      "text/plain": [
       "                            len   min     max\n",
       "country                                      \n",
       "Argentina                3800.0   4.0   230.0\n",
       "Armenia                     2.0  14.0    15.0\n",
       "Australia                2329.0   5.0   850.0\n",
       "Austria                  3345.0   7.0  1100.0\n",
       "Bosnia and Herzegovina      2.0  12.0    13.0\n",
       "Brazil                     52.0  10.0    60.0\n",
       "Bulgaria                  141.0   8.0   100.0\n",
       "Canada                    257.0  12.0   120.0\n",
       "Chile                    4472.0   5.0   400.0\n",
       "China                       1.0  18.0    18.0\n",
       "Croatia                    73.0  12.0    65.0\n",
       "Cyprus                     11.0  11.0    21.0\n",
       "Czech Republic             12.0  15.0    45.0\n",
       "Egypt                       1.0   NaN     NaN\n",
       "England                    74.0  25.0    95.0\n",
       "France                  22093.0   5.0  3300.0\n",
       "Georgia                    86.0   9.0    40.0\n",
       "Germany                  2165.0   5.0   775.0\n",
       "Greece                    466.0   8.0    79.0\n",
       "Hungary                   146.0  10.0   764.0\n",
       "India                       9.0  10.0    20.0\n",
       "Israel                    505.0   8.0   150.0\n",
       "Italy                   19540.0   5.0   900.0\n",
       "Lebanon                    35.0  13.0    75.0\n",
       "Luxembourg                  6.0  16.0    30.0\n",
       "Macedonia                  12.0  15.0    20.0\n",
       "Mexico                     70.0   8.0   108.0\n",
       "Moldova                    59.0   8.0    42.0\n",
       "Morocco                    28.0  14.0    40.0\n",
       "New Zealand              1419.0   7.0   130.0\n",
       "Peru                       16.0  10.0    68.0\n",
       "Portugal                 5691.0   5.0  1000.0\n",
       "Romania                   120.0   4.0   320.0\n",
       "Serbia                     12.0  15.0    42.0\n",
       "Slovakia                    1.0  16.0    16.0\n",
       "Slovenia                   87.0   7.0    90.0\n",
       "South Africa             1401.0   5.0   330.0\n",
       "Spain                    6645.0   4.0   770.0\n",
       "Switzerland                 7.0  21.0   160.0\n",
       "Turkey                     90.0  14.0   120.0\n",
       "US                      54504.0   4.0  2013.0\n",
       "Ukraine                    14.0   6.0    13.0\n",
       "Uruguay                   109.0  10.0   130.0"
      ]
     },
     "execution_count": 109,
     "metadata": {},
     "output_type": "execute_result"
    }
   ],
   "source": [
    "# Count, minimum, and maximum price per country\n",
    "wine_data.groupby('country').price.agg([len, min, max])"
   ]
  },
  {
   "cell_type": "markdown",
   "id": "1f8d3541",
   "metadata": {},
   "source": [
    "These methods provide flexible ways to explore your data grouped by categorical variables."
   ]
  },
  {
   "cell_type": "markdown",
   "id": "b9b96d56",
   "metadata": {},
   "source": [
    "### Sorting Data\n",
    "\n",
    "You can sort your DataFrame or grouped results by column values using `sort_values()`:"
   ]
  },
  {
   "cell_type": "code",
   "execution_count": 114,
   "id": "66741359",
   "metadata": {},
   "outputs": [
    {
     "data": {
      "text/plain": [
       "[1, 2, 3]"
      ]
     },
     "execution_count": 114,
     "metadata": {},
     "output_type": "execute_result"
    }
   ],
   "source": [
    "# Sort the dataset by price in ascending order\n",
    "wine_data.sort_values(by='price')\n",
    "\n",
    "# Sort in descending order\n",
    "wine_data.sort_values(by='price', ascending=False)\n",
    "\n",
    "# When working with lists, use the built-in Python `sort()` method\n",
    "my_list = [3, 1, 2]\n",
    "my_list.sort()\n",
    "my_list"
   ]
  },
  {
   "cell_type": "markdown",
   "id": "8d06f671",
   "metadata": {},
   "source": [
    "## 🧹 8. Data Cleaning and Transformation \n",
    "\n",
    "Cleaning and transforming data are essential steps before analysis or modeling. This section covers key tasks to prepare your dataset:\n",
    "\n",
    "- Handling missing values and imputation\n",
    "\n",
    "- Checking for and removing duplicates\n",
    "\n",
    "- Using mapping methods (`map`, `replace`, `apply`) for data transformations\n",
    "\n",
    "- Renaming columns and index labels for clarity and consistency"
   ]
  },
  {
   "cell_type": "markdown",
   "id": "dd719d04",
   "metadata": {},
   "source": [
    "### 8.1 Handling Missing Values and Imputation\n",
    "\n",
    "Handling missing values is a crucial part of cleaning data before analysis or modeling.\n",
    "\n",
    "You can begin by inspecting how many values are missing per column:"
   ]
  },
  {
   "cell_type": "code",
   "execution_count": 116,
   "id": "2f0285a9",
   "metadata": {},
   "outputs": [
    {
     "data": {
      "text/plain": [
       "country                     63\n",
       "description                  0\n",
       "designation              37465\n",
       "points                       0\n",
       "price                     8996\n",
       "province                    63\n",
       "region_1                 21247\n",
       "region_2                 79460\n",
       "taster_name              26244\n",
       "taster_twitter_handle    31213\n",
       "title                        0\n",
       "variety                      1\n",
       "winery                       0\n",
       "region_1_filled              0\n",
       "checked                      0\n",
       "dtype: int64"
      ]
     },
     "execution_count": 116,
     "metadata": {},
     "output_type": "execute_result"
    }
   ],
   "source": [
    "wine_data.isnull().sum()"
   ]
  },
  {
   "cell_type": "markdown",
   "id": "6d138f5e",
   "metadata": {},
   "source": [
    "**Dropping Missing Data**\n",
    "\n",
    "Use `.dropna()` to remove rows or columns with missing values:"
   ]
  },
  {
   "cell_type": "code",
   "execution_count": 118,
   "id": "5a5ada4d",
   "metadata": {},
   "outputs": [],
   "source": [
    "wine_data_copy = wine_data.copy()\n",
    "\n",
    "# Drop rows with any missing values\n",
    "wine_data_copy.dropna()\n",
    "\n",
    "# Drop columns with any missing values\n",
    "wine_data_copy.dropna(axis=1);"
   ]
  },
  {
   "cell_type": "markdown",
   "id": "f8627d88",
   "metadata": {},
   "source": [
    "This approach is only recommended when the amount of missing data is small, or when the column/row isn't essential."
   ]
  },
  {
   "cell_type": "markdown",
   "id": "bf4ae858",
   "metadata": {},
   "source": [
    "**Imputing Missing Data** with `fillna()`\n",
    "\n",
    "You can fill missing values with a constant or use forward/backward filling:"
   ]
  },
  {
   "cell_type": "code",
   "execution_count": 121,
   "id": "0fcfa0a1",
   "metadata": {},
   "outputs": [],
   "source": [
    "wine_data_copy.fillna(0)           # Replace all NaNs with 0\n",
    "wine_data_copy.fillna(method='ffill')  # Forward fill\n",
    "wine_data_copy.fillna(method='bfill');  # Backward fill"
   ]
  },
  {
   "cell_type": "markdown",
   "id": "3707b536",
   "metadata": {},
   "source": [
    "Statistical Imputation with **SimpleImputer** (scikit-learn)\n",
    "\n",
    "For numeric columns, a more robust strategy is to impute missing values with the column mean or median:"
   ]
  },
  {
   "cell_type": "code",
   "execution_count": 124,
   "id": "29c5fa4e",
   "metadata": {},
   "outputs": [],
   "source": [
    "from sklearn.impute import SimpleImputer\n",
    "\n",
    "# Select only numeric columns for imputation \n",
    "numeric_data = wine_data.select_dtypes(include=['number'])\n",
    "\n",
    "# Create imputer with default strategy='mean'\n",
    "imputer = SimpleImputer()\n",
    "\n",
    "# Fit and transform the numeric data\n",
    "imputed_numeric_data = pd.DataFrame(imputer.fit_transform(numeric_data), columns=numeric_data.columns)"
   ]
  },
  {
   "cell_type": "markdown",
   "id": "fab0f405",
   "metadata": {},
   "source": [
    "📌 Notes:\n",
    "\n",
    "- `SimpleImputer()` only works on numeric data if you're using the 'mean' strategy.\n",
    "\n",
    "- If you want to impute categorical columns, you can use a different strategy (e.g., 'most_frequent' or 'constant') and handle those columns separately."
   ]
  },
  {
   "cell_type": "markdown",
   "id": "d50ab065",
   "metadata": {},
   "source": [
    "💡 Tip:\n",
    "- Always copy your DataFrame before using destructive operations like `dropna()` to avoid losing original data."
   ]
  },
  {
   "cell_type": "markdown",
   "id": "d9e3382f",
   "metadata": {},
   "source": [
    "### 8.2 Checking for and Removing Duplicates\n",
    "\n",
    "Duplicate rows can distort analysis and lead to misleading results. It's important to detect and handle them early in your data cleaning process.\n",
    "\n",
    "#### 🔍 Check for duplicates\n",
    "\n",
    "Use `.duplicated()` to identify duplicate rows:"
   ]
  },
  {
   "cell_type": "code",
   "execution_count": 125,
   "id": "73620573",
   "metadata": {},
   "outputs": [
    {
     "data": {
      "text/plain": [
       "0         False\n",
       "1         False\n",
       "2         False\n",
       "3         False\n",
       "4         False\n",
       "          ...  \n",
       "129966    False\n",
       "129967    False\n",
       "129968    False\n",
       "129969    False\n",
       "129970    False\n",
       "Length: 129971, dtype: bool"
      ]
     },
     "execution_count": 125,
     "metadata": {},
     "output_type": "execute_result"
    }
   ],
   "source": [
    "wine_data.duplicated()"
   ]
  },
  {
   "cell_type": "code",
   "execution_count": 126,
   "id": "b0a6950a",
   "metadata": {},
   "outputs": [
    {
     "data": {
      "text/plain": [
       "9983"
      ]
     },
     "execution_count": 126,
     "metadata": {},
     "output_type": "execute_result"
    }
   ],
   "source": [
    "# To see how many duplicates exist:\n",
    "\n",
    "wine_data.duplicated().sum()"
   ]
  },
  {
   "cell_type": "markdown",
   "id": "adebbd45",
   "metadata": {},
   "source": [
    "✅ Check if a column has only unique values\n",
    "\n",
    "Useful for validating columns that should ideally have unique entries (e.g., IDs, user handles).\n",
    "\n",
    "You can test whether a specific column contains duplicates with:"
   ]
  },
  {
   "cell_type": "code",
   "execution_count": 130,
   "id": "f3f4f9d6",
   "metadata": {},
   "outputs": [
    {
     "data": {
      "text/plain": [
       "False"
      ]
     },
     "execution_count": 130,
     "metadata": {},
     "output_type": "execute_result"
    }
   ],
   "source": [
    "sum(wine_data.duplicated(subset='taster_name')) == 0"
   ]
  },
  {
   "cell_type": "markdown",
   "id": "fdcd74b4",
   "metadata": {},
   "source": [
    "This returns ✅ `True` if all entries in the `taster_name` column are unique, and ❌ `False` otherwise."
   ]
  },
  {
   "cell_type": "markdown",
   "id": "ce83c37a",
   "metadata": {},
   "source": [
    "🧹 **Remove duplicates**\n",
    "\n",
    "To remove duplicated rows, keeping only the first occurrence:"
   ]
  },
  {
   "cell_type": "code",
   "execution_count": null,
   "id": "4f125665",
   "metadata": {},
   "outputs": [],
   "source": [
    "wine_data_no_duplicates = wine_data.drop_duplicates()"
   ]
  },
  {
   "cell_type": "markdown",
   "id": "c46f910d",
   "metadata": {},
   "source": [
    "To remove duplicates based on specific columns:"
   ]
  },
  {
   "cell_type": "code",
   "execution_count": 128,
   "id": "e2f8d6ec",
   "metadata": {},
   "outputs": [],
   "source": [
    "wine_data_no_duplicates_subset = wine_data.drop_duplicates(subset=['taster_name', 'country'])"
   ]
  },
  {
   "cell_type": "markdown",
   "id": "cc32e11d",
   "metadata": {},
   "source": [
    "📌 Note:\n",
    "\n",
    "- By default, `.duplicated()` and `.drop_duplicates()` consider all columns.\n",
    "- Use keep='last' or keep=False in `.drop_duplicates()` to change which duplicates are retained."
   ]
  },
  {
   "cell_type": "code",
   "execution_count": 129,
   "id": "78ad865a",
   "metadata": {},
   "outputs": [],
   "source": [
    "# Keep the last occurrence instead of the first\n",
    "wine_data_last = wine_data.drop_duplicates(keep='last')\n",
    "\n",
    "# Drop all duplicates (keep none)\n",
    "wine_data_drop_all = wine_data.drop_duplicates(keep=False)"
   ]
  },
  {
   "cell_type": "markdown",
   "id": "cde940b8",
   "metadata": {},
   "source": [
    "💡 Tip:\n",
    "- Always check how many rows you're dropping by comparing the shape before and after deduplication."
   ]
  },
  {
   "cell_type": "markdown",
   "id": "c93491e1",
   "metadata": {},
   "source": [
    "### 8.3 Using Mapping Methods (map, replace, apply) for Data Transformations\n",
    "\n",
    "Pandas provides several powerful methods for transforming and cleaning data at the column level:\n",
    "\n",
    "🔁 `map()`:\n",
    "\n",
    "- Used for element-wise transformation.\n",
    "- Works only on Series (not entire DataFrames).\n",
    "- Useful for mapping values using a dictionary or a function."
   ]
  },
  {
   "cell_type": "code",
   "execution_count": 131,
   "id": "4b35c99f",
   "metadata": {},
   "outputs": [],
   "source": [
    "# Example: map values in a Series (non-destructive)\n",
    "country_mapped = wine_data['country'].map({'Italy': 'IT', 'France': 'FR'})"
   ]
  },
  {
   "cell_type": "code",
   "execution_count": 138,
   "id": "e4233ba1",
   "metadata": {},
   "outputs": [],
   "source": [
    "# Example: subtracting the mean price from each price value\n",
    "wine_data_price_mean = wine_data.price.mean()\n",
    "demeaned_price = wine_data.price.map(lambda p: p - wine_data_price_mean)"
   ]
  },
  {
   "cell_type": "markdown",
   "id": "64be856b",
   "metadata": {},
   "source": [
    "📌 `map()` returns a new Series with transformed values, leaving the original data untouched."
   ]
  },
  {
   "cell_type": "markdown",
   "id": "01ec0544",
   "metadata": {},
   "source": [
    "🔄 `replace()`:\n",
    "\n",
    "- Similar to `map()` but more flexible.\n",
    "- Can operate on DataFrames or Series.\n",
    "- Supports replacing values with others (single or multiple).\n",
    "\n",
    "Used to replace specific values in a Series or DataFrame."
   ]
  },
  {
   "cell_type": "code",
   "execution_count": 134,
   "id": "62660ad8",
   "metadata": {},
   "outputs": [],
   "source": [
    "# Example: replace values in a Series (non-destructive)\n",
    "country_replaced = wine_data['country'].replace({'US': 'United States', 'UK': 'United Kingdom'})"
   ]
  },
  {
   "cell_type": "markdown",
   "id": "a9ed0613",
   "metadata": {},
   "source": [
    "🛠️ `apply()`:\n",
    "\n",
    "- General-purpose transformation method.\n",
    "- Can be used on entire DataFrames (with axis=1) or on Series.\n",
    "- Allows you to apply a function to rows or columns."
   ]
  },
  {
   "cell_type": "code",
   "execution_count": 136,
   "id": "11b5c5ae",
   "metadata": {},
   "outputs": [],
   "source": [
    "# Example: apply a function to a column (non-destructive)\n",
    "points_plus_five = wine_data['points'].apply(lambda x: x + 5)"
   ]
  },
  {
   "cell_type": "code",
   "execution_count": 139,
   "id": "5d17f345",
   "metadata": {},
   "outputs": [],
   "source": [
    "# Apply a custom function row-wise to re-center prices\n",
    "\n",
    "wine_data_price_mean = wine_data.price.mean()\n",
    "\n",
    "def remean_price(row):\n",
    "    row.price = row.price - wine_data_price_mean\n",
    "    return row\n",
    "\n",
    "wine_data_remeaned = wine_data.apply(remean_price, axis='columns')"
   ]
  },
  {
   "cell_type": "markdown",
   "id": "fa8d50b6",
   "metadata": {},
   "source": [
    "⚠️ Unlike `map()`, `apply()` gives access to the full row or column, not just one value; making it great for more complex transformations."
   ]
  },
  {
   "cell_type": "markdown",
   "id": "fe4a24a8",
   "metadata": {},
   "source": [
    "⚡ Bonus: Pandas supports simple vectorized math too"
   ]
  },
  {
   "cell_type": "code",
   "execution_count": 140,
   "id": "d803cbab",
   "metadata": {},
   "outputs": [],
   "source": [
    "# Re-centering points using direct subtraction\n",
    "wine_data_points_mean = wine_data.points.mean()\n",
    "demeaned_points = wine_data.points - wine_data_points_mean"
   ]
  },
  {
   "cell_type": "markdown",
   "id": "b67fe5e7",
   "metadata": {},
   "source": [
    "✅ This is often the fastest and cleanest way to transform numeric columns in pandas."
   ]
  },
  {
   "cell_type": "markdown",
   "id": "3c435d0f",
   "metadata": {},
   "source": [
    "📌 These examples do not modify the original dataset. You can assign the results to a new variable or column if needed."
   ]
  },
  {
   "cell_type": "markdown",
   "id": "e56e2883",
   "metadata": {},
   "source": [
    "### 8.4 Renaming Columns and Index Labels and Cleaning Inconsistent Entries\n",
    "\n",
    "Renaming columns or index labels improves code readability and ensures consistent naming throughout your workflow. Additionally, cleaning inconsistent text entries within columns helps maintain data quality and accuracy.\n",
    "\n",
    "🏷️ Renaming Columns\n",
    "\n",
    "Use `.rename()` with the `columns` parameter and a dictionary mapping old names to new ones:"
   ]
  },
  {
   "cell_type": "code",
   "execution_count": 142,
   "id": "cb58cf56",
   "metadata": {},
   "outputs": [],
   "source": [
    "# Rename the 'points' column to 'score'\n",
    "wine_data_renamed = wine_data.rename(columns={'points': 'score'})"
   ]
  },
  {
   "cell_type": "markdown",
   "id": "b1e63371",
   "metadata": {},
   "source": [
    "🔹 This returns a new DataFrame by default; the original remains unchanged unless you set `inplace=True`."
   ]
  },
  {
   "cell_type": "markdown",
   "id": "b5d01800",
   "metadata": {},
   "source": [
    "You can rename multiple columns at once:"
   ]
  },
  {
   "cell_type": "code",
   "execution_count": 144,
   "id": "f901e1a6",
   "metadata": {},
   "outputs": [],
   "source": [
    "# Rename multiple columns at once\n",
    "wine_data_renamed = wine_data.rename(columns={\n",
    "    'points': 'score',\n",
    "    'price': 'cost'\n",
    "})"
   ]
  },
  {
   "cell_type": "markdown",
   "id": "98de7acc",
   "metadata": {},
   "source": [
    "🧾 **Renaming Index Labels**\n",
    "\n",
    "To rename row index labels (not commonly needed unless working with custom indexes):"
   ]
  },
  {
   "cell_type": "code",
   "execution_count": 145,
   "id": "048c5f24",
   "metadata": {},
   "outputs": [],
   "source": [
    "wine_data_renamed_index = wine_data.rename(index={0: 'first_row', 1: 'second_row'})"
   ]
  },
  {
   "cell_type": "markdown",
   "id": "8070d856",
   "metadata": {},
   "source": [
    "✏️ **Rename All Columns with a Function**\n",
    "\n",
    "This is handy for cleaning up messy column names after loading data.\n",
    "\n",
    "If you want to rename all columns systematically (e.g. lowercase, remove spaces):"
   ]
  },
  {
   "cell_type": "code",
   "execution_count": 146,
   "id": "cb0c7c73",
   "metadata": {},
   "outputs": [],
   "source": [
    "wine_data.columns = wine_data.columns.str.lower().str.replace(' ', '_')"
   ]
  },
  {
   "cell_type": "markdown",
   "id": "c01a38f3",
   "metadata": {},
   "source": [
    "🧹 **Cleaning Inconsistent Text Entries**\n",
    "\n",
    "Text data often contains inconsistencies like different capitalizations or trailing spaces. Standardizing these entries improves data quality:"
   ]
  },
  {
   "cell_type": "code",
   "execution_count": 147,
   "id": "b232c126",
   "metadata": {},
   "outputs": [],
   "source": [
    "wine_data_copy = wine_data.copy()\n",
    "\n",
    "# Convert all entries in 'country' column to lowercase\n",
    "wine_data_copy['country'] = wine_data_copy['country'].str.lower()\n",
    "\n",
    "# Remove trailing and leading whitespace\n",
    "wine_data_copy['country'] = wine_data_copy['country'].str.strip()"
   ]
  },
  {
   "cell_type": "markdown",
   "id": "182613c3",
   "metadata": {},
   "source": [
    "To detect and fix near-duplicate or misspelled entries, you can use fuzzy string matching with the `fuzzywuzzy` library:"
   ]
  },
  {
   "cell_type": "code",
   "execution_count": 149,
   "id": "de2c60ac",
   "metadata": {},
   "outputs": [
    {
     "name": "stdout",
     "output_type": "stream",
     "text": [
      "[('Italy', 100), ('Israel', 55), ('Portugal', 46), ('Australia', 43), ('Chile', 40)]\n"
     ]
    }
   ],
   "source": [
    "import fuzzywuzzy\n",
    "from fuzzywuzzy import process\n",
    "\n",
    "# Example: Find top 5 closest matches to \"Italy\"\n",
    "matches = fuzzywuzzy.process.extract(\"Italy\", wine_data['country'].unique(), limit=5, scorer=fuzzywuzzy.fuzz.token_sort_ratio)\n",
    "print(matches);"
   ]
  },
  {
   "cell_type": "markdown",
   "id": "15a6c0a8",
   "metadata": {},
   "source": [
    "You can automate corrections by defining a function that replaces similar entries with a consistent target string:"
   ]
  },
  {
   "cell_type": "code",
   "execution_count": 150,
   "id": "63370e47",
   "metadata": {},
   "outputs": [
    {
     "name": "stdout",
     "output_type": "stream",
     "text": [
      "Replaced 1 entries with 'italy'\n"
     ]
    }
   ],
   "source": [
    "def replace_matches_in_column(df, column, target_string, min_ratio=80):\n",
    "    strings = df[column].unique()\n",
    "    matches = fuzzywuzzy.process.extract(target_string, strings, limit=10, scorer=fuzzywuzzy.fuzz.token_sort_ratio)\n",
    "    close_matches = [match[0] for match in matches if match[1] >= min_ratio]\n",
    "    df.loc[df[column].isin(close_matches), column] = target_string\n",
    "    print(f\"Replaced {len(close_matches)} entries with '{target_string}'\")\n",
    "\n",
    "# Usage example\n",
    "replace_matches_in_column(wine_data_copy, 'country', 'italy')"
   ]
  },
  {
   "cell_type": "markdown",
   "id": "40d70da2",
   "metadata": {},
   "source": [
    "## 🔧 9. Data Preprocessing and Feature Engineering\n",
    "\n",
    "Before feeding your dataset into a machine learning model or performing deeper analysis, it’s important to transform your raw data into a cleaner and more informative structure.\n",
    "\n",
    "This section covers common **preprocessing** and **feature engineering** techniques, including:\n",
    "\n",
    "- Extracting components from datetime columns  \n",
    "- Handling categorical variables  \n",
    "- Scaling and normalizing numerical features \n",
    "- Creating categorical bins from continuous data (feature binning)\n",
    "\n",
    "These techniques help improve model performance and make your data easier to work with."
   ]
  },
  {
   "cell_type": "markdown",
   "id": "1ad2028b",
   "metadata": {},
   "source": [
    "### 9.1 Date Feature Extraction\n",
    "\n",
    "If you’ve already converted your date columns to datetime format (see Section 5.4), you can now extract valuable components from them using the `.dt` accessor:"
   ]
  },
  {
   "cell_type": "code",
   "execution_count": null,
   "id": "787ecff4",
   "metadata": {},
   "outputs": [],
   "source": [
    "df['date'].dt.year       # Extract the year\n",
    "df['date'].dt.month      # Extract the month\n",
    "df['date'].dt.dayofweek  # Extract day of the week (0 = Monday)"
   ]
  },
  {
   "cell_type": "markdown",
   "id": "acee3440",
   "metadata": {},
   "source": [
    "These features are useful when building models that may depend on seasonal, monthly, or weekday-based patterns."
   ]
  },
  {
   "cell_type": "markdown",
   "id": "708a5dc8",
   "metadata": {},
   "source": [
    "### ✅ 9.2 Handling Categorical Variables\n",
    "\n",
    "Categorical variables represent values that fall into distinct categories, like `\"country\"`, `\"taster_name\"`, or `\"wine_style\"`. Most machine learning models require these to be encoded numerically."
   ]
  },
  {
   "cell_type": "code",
   "execution_count": 156,
   "id": "3db7610e",
   "metadata": {},
   "outputs": [
    {
     "data": {
      "text/plain": [
       "['country',\n",
       " 'description',\n",
       " 'designation',\n",
       " 'province',\n",
       " 'region_1',\n",
       " 'region_2',\n",
       " 'taster_name',\n",
       " 'taster_twitter_handle',\n",
       " 'title',\n",
       " 'variety',\n",
       " 'winery',\n",
       " 'region_1_filled',\n",
       " 'checked']"
      ]
     },
     "execution_count": 156,
     "metadata": {},
     "output_type": "execute_result"
    }
   ],
   "source": [
    "# Get list of categorical variables contained in our dateset\n",
    "wine_data_copy = wine_data.copy()\n",
    "category = (wine_data_copy.dtypes == 'object')\n",
    "cat_cols = list(category[category].index)\n",
    "cat_cols"
   ]
  },
  {
   "cell_type": "markdown",
   "id": "609a7f9f",
   "metadata": {},
   "source": [
    "There are three main approaches to deal with Categorical Variables:\n",
    "\n",
    "1️⃣ **Drop Categorical Variables**\n",
    "\n",
    "Only do this if you're sure the variable has no predictive value (columns do not contain useful information)."
   ]
  },
  {
   "cell_type": "code",
   "execution_count": 152,
   "id": "41373904",
   "metadata": {},
   "outputs": [],
   "source": [
    "# Drop all object (i.e. categorical) columns\n",
    "wine_data_numeric = wine_data.select_dtypes(exclude=['object'])"
   ]
  },
  {
   "cell_type": "markdown",
   "id": "1050c4eb",
   "metadata": {},
   "source": [
    "2️⃣ **Ordinal Encoding**\n",
    "\n",
    "Use when the categories have a natural order (e.g., \"Low\", \"Medium\", \"High\") - clear ranking to the categories. \n",
    "\n",
    "Ordinal variables = categorical variables that have a clear ordering in the values. "
   ]
  },
  {
   "cell_type": "code",
   "execution_count": null,
   "id": "48c7f955",
   "metadata": {},
   "outputs": [],
   "source": [
    "from sklearn.preprocessing import OrdinalEncoder\n",
    "\n",
    "# Copy dataset and get list of categorical columns\n",
    "wine_data_copy = wine_data.copy()\n",
    "cat_cols = wine_data_copy.select_dtypes(include=['object']).columns\n",
    "\n",
    "# Apply ordinal encoding\n",
    "ordinal_encoder = OrdinalEncoder()\n",
    "wine_data_copy[cat_cols] = ordinal_encoder.fit_transform(wine_data_copy[cat_cols])"
   ]
  },
  {
   "cell_type": "markdown",
   "id": "22bac803",
   "metadata": {},
   "source": [
    "3️⃣ **One-Hot Encoding**\n",
    "\n",
    "Use when the categories are nominal (no order). Each category becomes a separate column with 0/1 values.\n",
    "\n",
    "One-hot encoding does not assume an ordering of the categories.\n",
    "Nominal variables = categorical variables without an intrinsic ranking"
   ]
  },
  {
   "cell_type": "code",
   "execution_count": null,
   "id": "877e08f8",
   "metadata": {},
   "outputs": [],
   "source": [
    "from sklearn.preprocessing import OneHotEncoder\n",
    "\n",
    "# One-hot encode categorical features\n",
    "OH_encoder = OneHotEncoder(handle_unknown='ignore', sparse=False)\n",
    "OH_cols = pd.DataFrame(OH_encoder.fit_transform(wine_data_copy[cat_cols]))\n",
    "\n",
    "# Restore index\n",
    "OH_cols.index = wine_data_copy.index\n",
    "\n",
    "# Drop original categorical columns and join encoded ones\n",
    "num_data = wine_data_copy.drop(cat_cols, axis=1)\n",
    "OH_data = pd.concat([num_data, OH_cols], axis=1)\n",
    "\n",
    "# Make sure all column names are strings\n",
    "OH_data.columns = OH_data.columns.astype(str)"
   ]
  },
  {
   "cell_type": "markdown",
   "id": "7d7060e1",
   "metadata": {},
   "source": [
    "💡 Tip: You can also one-hot encode a single column quickly with `pd.get_dummies()`:"
   ]
  },
  {
   "cell_type": "code",
   "execution_count": 155,
   "id": "5055bfa4",
   "metadata": {},
   "outputs": [
    {
     "data": {
      "text/html": [
       "<div>\n",
       "<style scoped>\n",
       "    .dataframe tbody tr th:only-of-type {\n",
       "        vertical-align: middle;\n",
       "    }\n",
       "\n",
       "    .dataframe tbody tr th {\n",
       "        vertical-align: top;\n",
       "    }\n",
       "\n",
       "    .dataframe thead th {\n",
       "        text-align: right;\n",
       "    }\n",
       "</style>\n",
       "<table border=\"1\" class=\"dataframe\">\n",
       "  <thead>\n",
       "    <tr style=\"text-align: right;\">\n",
       "      <th></th>\n",
       "      <th>Armenia</th>\n",
       "      <th>Australia</th>\n",
       "      <th>Austria</th>\n",
       "      <th>Bosnia and Herzegovina</th>\n",
       "      <th>Brazil</th>\n",
       "      <th>Bulgaria</th>\n",
       "      <th>Canada</th>\n",
       "      <th>Chile</th>\n",
       "      <th>China</th>\n",
       "      <th>Croatia</th>\n",
       "      <th>...</th>\n",
       "      <th>Serbia</th>\n",
       "      <th>Slovakia</th>\n",
       "      <th>Slovenia</th>\n",
       "      <th>South Africa</th>\n",
       "      <th>Spain</th>\n",
       "      <th>Switzerland</th>\n",
       "      <th>Turkey</th>\n",
       "      <th>US</th>\n",
       "      <th>Ukraine</th>\n",
       "      <th>Uruguay</th>\n",
       "    </tr>\n",
       "  </thead>\n",
       "  <tbody>\n",
       "    <tr>\n",
       "      <th>0</th>\n",
       "      <td>0</td>\n",
       "      <td>0</td>\n",
       "      <td>0</td>\n",
       "      <td>0</td>\n",
       "      <td>0</td>\n",
       "      <td>0</td>\n",
       "      <td>0</td>\n",
       "      <td>0</td>\n",
       "      <td>0</td>\n",
       "      <td>0</td>\n",
       "      <td>...</td>\n",
       "      <td>0</td>\n",
       "      <td>0</td>\n",
       "      <td>0</td>\n",
       "      <td>0</td>\n",
       "      <td>0</td>\n",
       "      <td>0</td>\n",
       "      <td>0</td>\n",
       "      <td>0</td>\n",
       "      <td>0</td>\n",
       "      <td>0</td>\n",
       "    </tr>\n",
       "    <tr>\n",
       "      <th>1</th>\n",
       "      <td>0</td>\n",
       "      <td>0</td>\n",
       "      <td>0</td>\n",
       "      <td>0</td>\n",
       "      <td>0</td>\n",
       "      <td>0</td>\n",
       "      <td>0</td>\n",
       "      <td>0</td>\n",
       "      <td>0</td>\n",
       "      <td>0</td>\n",
       "      <td>...</td>\n",
       "      <td>0</td>\n",
       "      <td>0</td>\n",
       "      <td>0</td>\n",
       "      <td>0</td>\n",
       "      <td>0</td>\n",
       "      <td>0</td>\n",
       "      <td>0</td>\n",
       "      <td>0</td>\n",
       "      <td>0</td>\n",
       "      <td>0</td>\n",
       "    </tr>\n",
       "    <tr>\n",
       "      <th>2</th>\n",
       "      <td>0</td>\n",
       "      <td>0</td>\n",
       "      <td>0</td>\n",
       "      <td>0</td>\n",
       "      <td>0</td>\n",
       "      <td>0</td>\n",
       "      <td>0</td>\n",
       "      <td>0</td>\n",
       "      <td>0</td>\n",
       "      <td>0</td>\n",
       "      <td>...</td>\n",
       "      <td>0</td>\n",
       "      <td>0</td>\n",
       "      <td>0</td>\n",
       "      <td>0</td>\n",
       "      <td>0</td>\n",
       "      <td>0</td>\n",
       "      <td>0</td>\n",
       "      <td>1</td>\n",
       "      <td>0</td>\n",
       "      <td>0</td>\n",
       "    </tr>\n",
       "    <tr>\n",
       "      <th>3</th>\n",
       "      <td>0</td>\n",
       "      <td>0</td>\n",
       "      <td>0</td>\n",
       "      <td>0</td>\n",
       "      <td>0</td>\n",
       "      <td>0</td>\n",
       "      <td>0</td>\n",
       "      <td>0</td>\n",
       "      <td>0</td>\n",
       "      <td>0</td>\n",
       "      <td>...</td>\n",
       "      <td>0</td>\n",
       "      <td>0</td>\n",
       "      <td>0</td>\n",
       "      <td>0</td>\n",
       "      <td>0</td>\n",
       "      <td>0</td>\n",
       "      <td>0</td>\n",
       "      <td>1</td>\n",
       "      <td>0</td>\n",
       "      <td>0</td>\n",
       "    </tr>\n",
       "    <tr>\n",
       "      <th>4</th>\n",
       "      <td>0</td>\n",
       "      <td>0</td>\n",
       "      <td>0</td>\n",
       "      <td>0</td>\n",
       "      <td>0</td>\n",
       "      <td>0</td>\n",
       "      <td>0</td>\n",
       "      <td>0</td>\n",
       "      <td>0</td>\n",
       "      <td>0</td>\n",
       "      <td>...</td>\n",
       "      <td>0</td>\n",
       "      <td>0</td>\n",
       "      <td>0</td>\n",
       "      <td>0</td>\n",
       "      <td>0</td>\n",
       "      <td>0</td>\n",
       "      <td>0</td>\n",
       "      <td>1</td>\n",
       "      <td>0</td>\n",
       "      <td>0</td>\n",
       "    </tr>\n",
       "  </tbody>\n",
       "</table>\n",
       "<p>5 rows × 42 columns</p>\n",
       "</div>"
      ],
      "text/plain": [
       "   Armenia  Australia  Austria  Bosnia and Herzegovina  Brazil  Bulgaria  \\\n",
       "0        0          0        0                       0       0         0   \n",
       "1        0          0        0                       0       0         0   \n",
       "2        0          0        0                       0       0         0   \n",
       "3        0          0        0                       0       0         0   \n",
       "4        0          0        0                       0       0         0   \n",
       "\n",
       "   Canada  Chile  China  Croatia  ...  Serbia  Slovakia  Slovenia  \\\n",
       "0       0      0      0        0  ...       0         0         0   \n",
       "1       0      0      0        0  ...       0         0         0   \n",
       "2       0      0      0        0  ...       0         0         0   \n",
       "3       0      0      0        0  ...       0         0         0   \n",
       "4       0      0      0        0  ...       0         0         0   \n",
       "\n",
       "   South Africa  Spain  Switzerland  Turkey  US  Ukraine  Uruguay  \n",
       "0             0      0            0       0   0        0        0  \n",
       "1             0      0            0       0   0        0        0  \n",
       "2             0      0            0       0   1        0        0  \n",
       "3             0      0            0       0   1        0        0  \n",
       "4             0      0            0       0   1        0        0  \n",
       "\n",
       "[5 rows x 42 columns]"
      ]
     },
     "execution_count": 155,
     "metadata": {},
     "output_type": "execute_result"
    }
   ],
   "source": [
    "pd.get_dummies(wine_data_copy['country'], drop_first=True).head()"
   ]
  },
  {
   "cell_type": "markdown",
   "id": "bda4fdf0",
   "metadata": {},
   "source": [
    "### ⚖️ 9.3 Scaling and Normalization\n",
    "\n",
    "Scaling and normalization are essential data preprocessing steps, especially before feeding data into many machine learning models. They ensure that features are on comparable scales, preventing models from being biased toward variables with larger values.\n",
    "\n",
    "🤔 What's the Difference?\n",
    "\n",
    "- Scaling: changes the range of your data (e.g., shrinking everything between 0 and 1).\n",
    "- Normalization: changes the shape of the distribution of your data (e.g., making it look more like a normal distribution).\n",
    "\n",
    "🧠 When Should You Use Each?\n",
    "\n",
    "- Use scaling when your model depends on distance calculations (like K-Nearest Neighbors, SVM, or models using gradient descent). By scaling variables, you compare features on equal footing.\n",
    "\n",
    "- Use normalization when your algorithm assumes normally distributed data (e.g., Linear Discriminant Analysis, Gaussian Naive Bayes).\n",
    "    It’s a more radical transformation and may significantly reshape the feature distribution.\n",
    "\n",
    "🔢 Why Scale or Normalize?\n",
    "\n",
    "- Many algorithms are sensitive to feature magnitudes, such as:\n",
    "    - K-Nearest Neighbors\n",
    "    - Logistic Regression\n",
    "    - Support Vector Machines\n",
    "    - Gradient Descent–based models\n",
    "- Helps speed up convergence in optimization."
   ]
  },
  {
   "cell_type": "markdown",
   "id": "0feb3578",
   "metadata": {},
   "source": [
    "⚙️ Common Scalers in `scikit-learn`\n",
    "\n",
    "📏 **MinMaxScaler**\n",
    "\n",
    "Scales features to a specific range (default [0, 1]).\n",
    "\n",
    "✅ Preserves shape of original distribution ⚠️ Sensitive to outliers"
   ]
  },
  {
   "cell_type": "code",
   "execution_count": 161,
   "id": "b319c10f",
   "metadata": {},
   "outputs": [],
   "source": [
    "from sklearn.preprocessing import MinMaxScaler\n",
    "\n",
    "scaler = MinMaxScaler()\n",
    "scaled_data = scaler.fit_transform(wine_data[['price', 'points']])\n",
    "scaled_df = pd.DataFrame(scaled_data, columns=['price', 'points'])"
   ]
  },
  {
   "cell_type": "markdown",
   "id": "99e3c728",
   "metadata": {},
   "source": [
    "📊 **StandardScaler**\n",
    "\n",
    "Centers feature values around mean = 0 and standard deviation = 1.\n",
    "\n",
    "✅ Works well for features with Gaussian-like distributions"
   ]
  },
  {
   "cell_type": "code",
   "execution_count": null,
   "id": "1e557236",
   "metadata": {},
   "outputs": [],
   "source": [
    "from sklearn.preprocessing import StandardScaler\n",
    "\n",
    "scaler = StandardScaler()\n",
    "scaled_data = scaler.fit_transform(wine_data[['price', 'points']])"
   ]
  },
  {
   "cell_type": "markdown",
   "id": "4b83e482",
   "metadata": {},
   "source": [
    "📌 Note: fit_transform() returns a NumPy array. If you want a DataFrame back:"
   ]
  },
  {
   "cell_type": "code",
   "execution_count": 158,
   "id": "d90bdb75",
   "metadata": {},
   "outputs": [],
   "source": [
    "scaled_df = pd.DataFrame(scaled_data, columns=['price', 'points'])"
   ]
  },
  {
   "cell_type": "markdown",
   "id": "18ce5db6",
   "metadata": {},
   "source": [
    "🧮 MaxAbsScaler\n",
    "\n",
    "Scales by dividing by the maximum absolute value of each feature, resulting in values between -1 and 1.\n",
    "\n",
    "✅ Ideal for sparse data\n",
    "✅ Keeps 0s intact"
   ]
  },
  {
   "cell_type": "code",
   "execution_count": null,
   "id": "a6608d59",
   "metadata": {},
   "outputs": [],
   "source": [
    "from sklearn.preprocessing import MaxAbsScaler\n",
    "\n",
    "scaler = MaxAbsScaler()\n",
    "scaled_data = scaler.fit_transform(wine_data[['price', 'points']])"
   ]
  },
  {
   "cell_type": "markdown",
   "id": "f7e667fb",
   "metadata": {},
   "source": [
    "🔁 Normalizer (L2 Norm)\n",
    "\n",
    "Applies normalization across each row (not column).\n",
    "\n",
    "Useful when the direction of the data matters more than magnitude (e.g., text classification)."
   ]
  },
  {
   "cell_type": "code",
   "execution_count": null,
   "id": "21ad791d",
   "metadata": {},
   "outputs": [],
   "source": [
    "from sklearn.preprocessing import Normalizer\n",
    "\n",
    "normalizer = Normalizer()\n",
    "normalized_data = normalizer.fit_transform(wine_data[['price', 'points']])"
   ]
  },
  {
   "cell_type": "markdown",
   "id": "16741bc9",
   "metadata": {},
   "source": [
    "📦 Box-Cox Transformation\n",
    "\n",
    "Transforms non-normal dependent variables into a normal shape. \n",
    "\n",
    "Useful for normalization before linear models."
   ]
  },
  {
   "cell_type": "code",
   "execution_count": null,
   "id": "ebf53bca",
   "metadata": {},
   "outputs": [],
   "source": [
    "from scipy import stats\n",
    "\n",
    "# Apply Box-Cox to a single column (must be strictly positive)\n",
    "boxcox_transformed, fitted_lambda = stats.boxcox(wine_data['price'].dropna())"
   ]
  },
  {
   "cell_type": "markdown",
   "id": "840cfcbc",
   "metadata": {},
   "source": [
    "### 🔍 Summary Table of Scalers\n",
    "\n",
    "| Scaler            | Output Range        | Preserves Distribution | Notes                                |\n",
    "|-------------------|---------------------|-------------------------|--------------------------------------|\n",
    "| `MinMaxScaler`    | [0, 1]              | ✅ Yes                  | Sensitive to outliers                |\n",
    "| `StandardScaler`  | Mean = 0, Std = 1   | ✅ Gaussian-like only   | Most commonly used                   |\n",
    "| `MaxAbsScaler`    | [-1, 1]             | ✅ Yes                  | Good for sparse data, keeps zeros    |\n",
    "| `Normalizer`      | Unit norm (per row) | ❌ No                   | Use when direction matters (e.g. text) |\n",
    "| `stats.boxcox()`  | ~Gaussian           | ❌ No                   | Normalization for positive values only |"
   ]
  },
  {
   "cell_type": "markdown",
   "id": "a05467fb",
   "metadata": {},
   "source": [
    "### 9.4 Feature Binning with `pd.cut()`\n",
    "\n",
    "Sometimes, it’s useful to convert a continuous numeric feature into categorical bins or ranges. This can help simplify models or create grouped summaries. \n",
    "\n",
    "This technique is great for creating meaningful categories from continuous data.\n",
    "\n",
    "Pandas provides the `cut()` function to split a numeric column into discrete intervals with optional labels.\n",
    "\n",
    "Example:"
   ]
  },
  {
   "cell_type": "code",
   "execution_count": 169,
   "id": "82f8b36b",
   "metadata": {},
   "outputs": [
    {
     "data": {
      "text/plain": [
       "tier 2    107130\n",
       "tier 3     21960\n",
       "tier 1       881\n",
       "Name: points_range, dtype: int64"
      ]
     },
     "execution_count": 169,
     "metadata": {},
     "output_type": "execute_result"
    }
   ],
   "source": [
    "wine_data_copy = wine_data.copy()\n",
    "\n",
    "# Define bins and labels for the 'points' column\n",
    "bins = [75., 85., 95., 100.]\n",
    "labels = ['tier 3', 'tier 2', 'tier 1']\n",
    "\n",
    "# Create a new categorical column based on the bins\n",
    "wine_data_copy['points_range'] = pd.cut(wine_data_copy.points, bins=bins, labels=labels)\n",
    "\n",
    "# Count how many entries fall into each bin\n",
    "wine_data_copy['points_range'].value_counts()"
   ]
  },
  {
   "cell_type": "markdown",
   "id": "1a35f57e",
   "metadata": {},
   "source": [
    "## 📚 10. Combining Datasets\n",
    "\n",
    "Combining datasets is a fundamental task in data analysis. Whether you're merging additional features, appending new records, or joining datasets from different sources, pandas provides powerful tools to handle this efficiently.\n",
    "\n",
    "This section will cover:\n",
    "- Concatenation (pd.concat)\n",
    "- Joining based on index or columns (.join)\n",
    "- Merging on keys (pd.merge)\n",
    "- Dealing with overlapping columns or mismatched indexes"
   ]
  },
  {
   "cell_type": "markdown",
   "id": "ed891ec6",
   "metadata": {},
   "source": [
    "| Method         | Purpose                          | Axis / Direction          | Notes / Usage Highlights                                   |\n",
    "|----------------|---------------------------------|--------------------------|------------------------------------------------------------|\n",
    "| `pd.concat()`  | Concatenate DataFrames           | axis=0 (rows) or axis=1 (columns) | Stacks DataFrames vertically or horizontally; indices preserved unless `ignore_index=True` |\n",
    "| `df.join()`    | Join DataFrames by index or key  | N/A                      | Convenient for joining on index or key; similar to merge but simpler syntax for index joins |\n",
    "| `pd.merge()`   | Merge DataFrames based on keys   | N/A                      | Database-style join; supports inner, outer, left, right joins; merges on columns or indices |\n",
    "| `pd.append()`  | Append rows to DataFrame (deprecated) | axis=0 (rows)            | Used to add rows; deprecated in favor of `pd.concat()`       |\n"
   ]
  },
  {
   "cell_type": "markdown",
   "id": "f57e503c",
   "metadata": {},
   "source": [
    "Use `pd.concat()` to stack DataFrames one after another (adding rows):"
   ]
  },
  {
   "cell_type": "code",
   "execution_count": 166,
   "id": "1fa9bf8d",
   "metadata": {},
   "outputs": [
    {
     "name": "stdout",
     "output_type": "stream",
     "text": [
      "      Name  Age\n",
      "0    Alice   25\n",
      "1      Bob   30\n",
      "2  Charlie   35\n",
      "3    David   40\n"
     ]
    }
   ],
   "source": [
    "import pandas as pd\n",
    "\n",
    "df1 = pd.DataFrame({'Name': ['Alice', 'Bob'], 'Age': [25, 30]})\n",
    "df2 = pd.DataFrame({'Name': ['Charlie', 'David'], 'Age': [35, 40]})\n",
    "\n",
    "result = pd.concat([df1, df2], ignore_index=True)\n",
    "# ignore_index=True resets the index in the resulting DataFrame after concatenation\n",
    "\n",
    "print(result)"
   ]
  },
  {
   "cell_type": "markdown",
   "id": "8cfbcc7f",
   "metadata": {},
   "source": [
    "**Joining DataFrames by Index**\n",
    "\n",
    "Use `.join()` to join DataFrames side-by-side based on their index."
   ]
  },
  {
   "cell_type": "code",
   "execution_count": 167,
   "id": "5ca310e3",
   "metadata": {},
   "outputs": [
    {
     "name": "stdout",
     "output_type": "stream",
     "text": [
      "    Name  Age\n",
      "0  Alice   25\n",
      "1    Bob   30\n"
     ]
    }
   ],
   "source": [
    "df1 = pd.DataFrame({'Name': ['Alice', 'Bob']}, index=[0, 1])\n",
    "df2 = pd.DataFrame({'Age': [25, 30]}, index=[0, 1])\n",
    "\n",
    "result = df1.join(df2)\n",
    "\n",
    "print(result)"
   ]
  },
  {
   "cell_type": "markdown",
   "id": "e9e5aa16",
   "metadata": {},
   "source": [
    "**Merging DataFrames on a Key Column**\n",
    "\n",
    "Use `pd.merge()` to combine DataFrames based on common columns (keys)."
   ]
  },
  {
   "cell_type": "code",
   "execution_count": 168,
   "id": "d0e12126",
   "metadata": {},
   "outputs": [
    {
     "name": "stdout",
     "output_type": "stream",
     "text": [
      "   ID   Name  Age\n",
      "0   1  Alice   25\n",
      "1   2    Bob   30\n"
     ]
    }
   ],
   "source": [
    "df1 = pd.DataFrame({\n",
    "    'ID': [1, 2],\n",
    "    'Name': ['Alice', 'Bob']\n",
    "})\n",
    "\n",
    "df2 = pd.DataFrame({\n",
    "    'ID': [1, 2],\n",
    "    'Age': [25, 30]\n",
    "})\n",
    "\n",
    "result = pd.merge(df1, df2, on='ID')\n",
    "\n",
    "print(result)"
   ]
  },
  {
   "cell_type": "markdown",
   "id": "e25a8138",
   "metadata": {},
   "source": [
    "## 🧠 11. Bonus: Tips for Handling Large Datasets\n",
    "\n",
    "Working with large datasets in pandas can be slow or memory-intensive. Here are some practical strategies:\n",
    "\n",
    "- Load only needed columns: use `usecols` when reading files like CSVs."
   ]
  },
  {
   "cell_type": "code",
   "execution_count": null,
   "id": "d638c2ed",
   "metadata": {},
   "outputs": [],
   "source": [
    "pd.read_csv(\"data.csv\", usecols=[\"column1\", \"column2\"])"
   ]
  },
  {
   "cell_type": "markdown",
   "id": "99d47d74",
   "metadata": {},
   "source": [
    "- Read in chunks for massive files:"
   ]
  },
  {
   "cell_type": "code",
   "execution_count": null,
   "id": "dd79ff41",
   "metadata": {},
   "outputs": [],
   "source": [
    "chunk_iter = pd.read_csv(\"large_file.csv\", chunksize=10000)\n",
    "for chunk in chunk_iter:\n",
    "    process(chunk)"
   ]
  },
  {
   "cell_type": "markdown",
   "id": "5bda0e1d",
   "metadata": {},
   "source": [
    "- Use `category` dtype for columns with repeated string values to save memory.\n",
    "\n",
    "- Filter rows early: Don’t load/process more data than you need.\n",
    "\n",
    "- Use `.loc[]` and `.query()` efficiently to avoid copying unnecessary data.\n",
    "\n",
    "- Use libraries optimized for big data, like:\n",
    "    - polars\n",
    "    - dask\n",
    "    - vaex"
   ]
  }
 ],
 "metadata": {
  "kernelspec": {
   "display_name": "Python 3",
   "language": "python",
   "name": "python3"
  },
  "language_info": {
   "codemirror_mode": {
    "name": "ipython",
    "version": 3
   },
   "file_extension": ".py",
   "mimetype": "text/x-python",
   "name": "python",
   "nbconvert_exporter": "python",
   "pygments_lexer": "ipython3",
   "version": "3.8.8"
  }
 },
 "nbformat": 4,
 "nbformat_minor": 5
}
